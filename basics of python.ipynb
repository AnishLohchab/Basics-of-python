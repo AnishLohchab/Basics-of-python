{
 "cells": [
  {
   "cell_type": "markdown",
   "id": "9ff17f68",
   "metadata": {},
   "source": [
    "# variable"
   ]
  },
  {
   "cell_type": "code",
   "execution_count": null,
   "id": "f5209080",
   "metadata": {},
   "outputs": [],
   "source": []
  },
  {
   "cell_type": "code",
   "execution_count": 2,
   "id": "a7bf2288",
   "metadata": {},
   "outputs": [],
   "source": [
    "X = 101"
   ]
  },
  {
   "cell_type": "code",
   "execution_count": 3,
   "id": "22b36f8d",
   "metadata": {},
   "outputs": [
    {
     "data": {
      "text/plain": [
       "101"
      ]
     },
     "execution_count": 3,
     "metadata": {},
     "output_type": "execute_result"
    }
   ],
   "source": [
    "X"
   ]
  },
  {
   "cell_type": "code",
   "execution_count": 4,
   "id": "771a1159",
   "metadata": {},
   "outputs": [
    {
     "name": "stdout",
     "output_type": "stream",
     "text": [
      "111\n"
     ]
    }
   ],
   "source": [
    "print(X+10)"
   ]
  },
  {
   "cell_type": "code",
   "execution_count": 5,
   "id": "3cacd12f",
   "metadata": {},
   "outputs": [],
   "source": [
    " y = 101+111+108+128"
   ]
  },
  {
   "cell_type": "code",
   "execution_count": null,
   "id": "6431a36e",
   "metadata": {},
   "outputs": [],
   "source": [
    "y"
   ]
  },
  {
   "cell_type": "code",
   "execution_count": null,
   "id": "1691f76e",
   "metadata": {},
   "outputs": [],
   "source": [
    "y*2"
   ]
  },
  {
   "cell_type": "code",
   "execution_count": null,
   "id": "72879370",
   "metadata": {},
   "outputs": [],
   "source": [
    "y/3"
   ]
  },
  {
   "cell_type": "markdown",
   "id": "f454c5df",
   "metadata": {},
   "source": [
    "# Arithmatic operator"
   ]
  },
  {
   "cell_type": "markdown",
   "id": "ec0a5368",
   "metadata": {},
   "source": [
    "#assign two variable naming as age,weight. operate the arithmatic operation"
   ]
  },
  {
   "cell_type": "code",
   "execution_count": null,
   "id": "86086b85",
   "metadata": {},
   "outputs": [],
   "source": [
    "age = 22\n",
    "weight = 90\n"
   ]
  },
  {
   "cell_type": "code",
   "execution_count": null,
   "id": "fca6d4de",
   "metadata": {},
   "outputs": [],
   "source": [
    "age+weight"
   ]
  },
  {
   "cell_type": "code",
   "execution_count": null,
   "id": "b42834e5",
   "metadata": {},
   "outputs": [],
   "source": [
    "age*weight"
   ]
  },
  {
   "cell_type": "code",
   "execution_count": null,
   "id": "6a62ec52",
   "metadata": {},
   "outputs": [],
   "source": [
    "age-weight"
   ]
  },
  {
   "cell_type": "code",
   "execution_count": null,
   "id": "c1940142",
   "metadata": {},
   "outputs": [],
   "source": [
    "age/weight"
   ]
  },
  {
   "cell_type": "code",
   "execution_count": null,
   "id": "045a0d7e",
   "metadata": {},
   "outputs": [],
   "source": [
    "age%weight           #modulus"
   ]
  },
  {
   "cell_type": "code",
   "execution_count": null,
   "id": "6223ec3b",
   "metadata": {},
   "outputs": [],
   "source": [
    "age//weight             ##  floor division"
   ]
  },
  {
   "cell_type": "code",
   "execution_count": null,
   "id": "effb3d6c",
   "metadata": {},
   "outputs": [],
   "source": [
    "age**weight         #power"
   ]
  },
  {
   "cell_type": "markdown",
   "id": "7f620cca",
   "metadata": {},
   "source": [
    "# logical operators (and, or,not)"
   ]
  },
  {
   "cell_type": "markdown",
   "id": "544b62de",
   "metadata": {},
   "source": [
    "assign two variable naming as age,weight,weight1. operate the logical operation"
   ]
  },
  {
   "cell_type": "code",
   "execution_count": null,
   "id": "2c405e06",
   "metadata": {},
   "outputs": [],
   "source": [
    "age = 22\n",
    "weight = 90\n",
    "weight1  = 100"
   ]
  },
  {
   "cell_type": "code",
   "execution_count": null,
   "id": "770d2ab3",
   "metadata": {},
   "outputs": [],
   "source": [
    "#and\n",
    "\n",
    "age and weight"
   ]
  },
  {
   "cell_type": "code",
   "execution_count": null,
   "id": "0c0532c1",
   "metadata": {},
   "outputs": [],
   "source": [
    "age or weight"
   ]
  },
  {
   "cell_type": "code",
   "execution_count": null,
   "id": "94b5f2eb",
   "metadata": {},
   "outputs": [],
   "source": [
    "weight and weight1"
   ]
  },
  {
   "cell_type": "code",
   "execution_count": null,
   "id": "fe9cc2f1",
   "metadata": {},
   "outputs": [],
   "source": [
    "not weight"
   ]
  },
  {
   "cell_type": "markdown",
   "id": "1562ad6a",
   "metadata": {},
   "source": [
    "# Comparision operators (<,>,<=,>=,!=,==)     #output is in boolean"
   ]
  },
  {
   "cell_type": "markdown",
   "id": "334fdc43",
   "metadata": {},
   "source": [
    "#assign two variable naming as age,weight,weight1. operate the logical operation"
   ]
  },
  {
   "cell_type": "code",
   "execution_count": null,
   "id": "3bce5241",
   "metadata": {},
   "outputs": [],
   "source": [
    "age < weight"
   ]
  },
  {
   "cell_type": "code",
   "execution_count": null,
   "id": "b059b60b",
   "metadata": {},
   "outputs": [],
   "source": [
    "age>weight"
   ]
  },
  {
   "cell_type": "code",
   "execution_count": null,
   "id": "8591094c",
   "metadata": {},
   "outputs": [],
   "source": [
    "age!=weight"
   ]
  },
  {
   "cell_type": "code",
   "execution_count": null,
   "id": "ee411d18",
   "metadata": {},
   "outputs": [],
   "source": [
    "age>=weight"
   ]
  },
  {
   "cell_type": "code",
   "execution_count": null,
   "id": "4b38399f",
   "metadata": {},
   "outputs": [],
   "source": [
    "age<=weight"
   ]
  },
  {
   "cell_type": "code",
   "execution_count": null,
   "id": "75ca6eb2",
   "metadata": {},
   "outputs": [],
   "source": [
    "age==weight"
   ]
  },
  {
   "cell_type": "markdown",
   "id": "693c1043",
   "metadata": {},
   "source": [
    "# Membership operator (is,is not,in,not in)\n"
   ]
  },
  {
   "cell_type": "code",
   "execution_count": null,
   "id": "2ce221c2",
   "metadata": {},
   "outputs": [],
   "source": [
    "XYZ = [21,22,0,24,26,5,10]"
   ]
  },
  {
   "cell_type": "code",
   "execution_count": null,
   "id": "37ad9a93",
   "metadata": {},
   "outputs": [],
   "source": [
    "type(XYZ)"
   ]
  },
  {
   "cell_type": "code",
   "execution_count": null,
   "id": "0e800882",
   "metadata": {},
   "outputs": [],
   "source": [
    "XYZ is type(XYZ)"
   ]
  },
  {
   "cell_type": "code",
   "execution_count": null,
   "id": "2622e985",
   "metadata": {},
   "outputs": [],
   "source": [
    "22 in XYZ"
   ]
  },
  {
   "cell_type": "code",
   "execution_count": null,
   "id": "8b189824",
   "metadata": {},
   "outputs": [],
   "source": [
    "22 not in XYZ"
   ]
  },
  {
   "cell_type": "code",
   "execution_count": null,
   "id": "2aae2ad2",
   "metadata": {},
   "outputs": [],
   "source": [
    "XYZ is not list"
   ]
  },
  {
   "cell_type": "markdown",
   "id": "a05ca640",
   "metadata": {},
   "source": [
    "# Assignment opertaor(=,+=,-=,*=,**=,=,/=,//=,%=)"
   ]
  },
  {
   "cell_type": "code",
   "execution_count": null,
   "id": "41d3e37c",
   "metadata": {},
   "outputs": [],
   "source": [
    "age += 20"
   ]
  },
  {
   "cell_type": "code",
   "execution_count": null,
   "id": "0f13a6b5",
   "metadata": {},
   "outputs": [],
   "source": [
    "age"
   ]
  },
  {
   "cell_type": "code",
   "execution_count": null,
   "id": "29d2dea1",
   "metadata": {},
   "outputs": [],
   "source": [
    "age-=20"
   ]
  },
  {
   "cell_type": "code",
   "execution_count": null,
   "id": "a5d967ec",
   "metadata": {},
   "outputs": [],
   "source": [
    "age"
   ]
  },
  {
   "cell_type": "code",
   "execution_count": null,
   "id": "815f327f",
   "metadata": {},
   "outputs": [],
   "source": [
    "age/=20"
   ]
  },
  {
   "cell_type": "code",
   "execution_count": null,
   "id": "b91be52f",
   "metadata": {},
   "outputs": [],
   "source": [
    "age"
   ]
  },
  {
   "cell_type": "code",
   "execution_count": null,
   "id": "db741bcb",
   "metadata": {},
   "outputs": [],
   "source": [
    "age*=20\n",
    "age"
   ]
  },
  {
   "cell_type": "code",
   "execution_count": null,
   "id": "192d42bb",
   "metadata": {},
   "outputs": [],
   "source": [
    "age%=20\n",
    "age"
   ]
  },
  {
   "cell_type": "code",
   "execution_count": null,
   "id": "e3a3a882",
   "metadata": {},
   "outputs": [],
   "source": [
    "age//=20\n",
    "age"
   ]
  },
  {
   "cell_type": "code",
   "execution_count": null,
   "id": "6e10912a",
   "metadata": {},
   "outputs": [],
   "source": [
    "age**=20\n",
    "age"
   ]
  },
  {
   "cell_type": "markdown",
   "id": "3c669363",
   "metadata": {},
   "source": [
    "# STRING:\n",
    "Strings in python are surrounded by either single quotation marks, or double quotation marks."
   ]
  },
  {
   "cell_type": "markdown",
   "id": "f762e7cf",
   "metadata": {},
   "source": [
    " \n",
    "#String manupulation (string functions)"
   ]
  },
  {
   "cell_type": "code",
   "execution_count": 1,
   "id": "046c6292",
   "metadata": {},
   "outputs": [],
   "source": [
    "data_science='''Data science is the study of data to extract meaningful insights for business.\n",
    "It is a multidisciplinary approach that combines principles and practices from the fields of\n",
    "mathematics, statistics, artificial intelligence, and computer engineering to analyze large \n",
    "amounts of data.'''"
   ]
  },
  {
   "cell_type": "code",
   "execution_count": 2,
   "id": "6e4a7600",
   "metadata": {},
   "outputs": [
    {
     "data": {
      "text/plain": [
       "'Data science is the study of data to extract meaningful insights for business.\\nIt is a multidisciplinary approach that combines principles and practices from the fields of\\nmathematics, statistics, artificial intelligence, and computer engineering to analyze large \\namounts of data.'"
      ]
     },
     "execution_count": 2,
     "metadata": {},
     "output_type": "execute_result"
    }
   ],
   "source": [
    "data_science"
   ]
  },
  {
   "cell_type": "code",
   "execution_count": 3,
   "id": "ffa3b6f6",
   "metadata": {},
   "outputs": [
    {
     "data": {
      "text/plain": [
       "str"
      ]
     },
     "execution_count": 3,
     "metadata": {},
     "output_type": "execute_result"
    }
   ],
   "source": [
    "type(data_science)"
   ]
  },
  {
   "cell_type": "code",
   "execution_count": 4,
   "id": "86995772",
   "metadata": {},
   "outputs": [
    {
     "data": {
      "text/plain": [
       "'Data science is the study of data to extract meaningful insights for business.\\nit is a multidisciplinary approach that combines principles and practices from the fields of\\nmathematics, statistics, artificial intelligence, and computer engineering to analyze large \\namounts of data.'"
      ]
     },
     "execution_count": 4,
     "metadata": {},
     "output_type": "execute_result"
    }
   ],
   "source": [
    "data_science.capitalize()"
   ]
  },
  {
   "cell_type": "code",
   "execution_count": 5,
   "id": "29ed832c",
   "metadata": {},
   "outputs": [
    {
     "data": {
      "text/plain": [
       "'data science is the study of data to extract meaningful insights for business.\\nit is a multidisciplinary approach that combines principles and practices from the fields of\\nmathematics, statistics, artificial intelligence, and computer engineering to analyze large \\namounts of data.'"
      ]
     },
     "execution_count": 5,
     "metadata": {},
     "output_type": "execute_result"
    }
   ],
   "source": [
    "data_science.casefold()"
   ]
  },
  {
   "cell_type": "code",
   "execution_count": 6,
   "id": "0c2f4439",
   "metadata": {},
   "outputs": [
    {
     "data": {
      "text/plain": [
       "'                                                                                                             Data science is the study of data to extract meaningful insights for business.\\nIt is a multidisciplinary approach that combines principles and practices from the fields of\\nmathematics, statistics, artificial intelligence, and computer engineering to analyze large \\namounts of data.                                                                                                              '"
      ]
     },
     "execution_count": 6,
     "metadata": {},
     "output_type": "execute_result"
    }
   ],
   "source": [
    "data_science.center(500)"
   ]
  },
  {
   "cell_type": "code",
   "execution_count": 7,
   "id": "e527d45e",
   "metadata": {},
   "outputs": [
    {
     "ename": "TypeError",
     "evalue": "'error' is an invalid keyword argument for encode()",
     "output_type": "error",
     "traceback": [
      "\u001b[1;31m---------------------------------------------------------------------------\u001b[0m",
      "\u001b[1;31mTypeError\u001b[0m                                 Traceback (most recent call last)",
      "Cell \u001b[1;32mIn[7], line 1\u001b[0m\n\u001b[1;32m----> 1\u001b[0m en \u001b[38;5;241m=\u001b[39m data_science\u001b[38;5;241m.\u001b[39mencode(encoding \u001b[38;5;241m=\u001b[39m \u001b[38;5;124m'\u001b[39m\u001b[38;5;124mutf-8\u001b[39m\u001b[38;5;124m'\u001b[39m,error \u001b[38;5;241m=\u001b[39m \u001b[38;5;124m'\u001b[39m\u001b[38;5;124mstrict\u001b[39m\u001b[38;5;124m'\u001b[39m)\n",
      "\u001b[1;31mTypeError\u001b[0m: 'error' is an invalid keyword argument for encode()"
     ]
    }
   ],
   "source": [
    " en = data_science.encode(encoding = 'utf-8',error = 'strict')"
   ]
  },
  {
   "cell_type": "code",
   "execution_count": 8,
   "id": "7b1c066c",
   "metadata": {},
   "outputs": [
    {
     "data": {
      "text/plain": [
       "False"
      ]
     },
     "execution_count": 8,
     "metadata": {},
     "output_type": "execute_result"
    }
   ],
   "source": [
    "data_science.endswith('a')\n"
   ]
  },
  {
   "cell_type": "code",
   "execution_count": 9,
   "id": "3772a292",
   "metadata": {},
   "outputs": [
    {
     "data": {
      "text/plain": [
       "'Data science is the study of data to extract meaningful insights for business.\\nIt is a multidisciplinary approach that combines principles and practices from the fields of\\nmathematics, statistics, artificial intelligence, and computer engineering to analyze large \\namounts of data.'"
      ]
     },
     "execution_count": 9,
     "metadata": {},
     "output_type": "execute_result"
    }
   ],
   "source": [
    "data_science.expandtabs(3)"
   ]
  },
  {
   "cell_type": "code",
   "execution_count": 10,
   "id": "c82a8c0a",
   "metadata": {},
   "outputs": [
    {
     "data": {
      "text/plain": [
       "29"
      ]
     },
     "execution_count": 10,
     "metadata": {},
     "output_type": "execute_result"
    }
   ],
   "source": [
    "data_science.find('data')\n"
   ]
  },
  {
   "cell_type": "code",
   "execution_count": 11,
   "id": "c2bc9281",
   "metadata": {},
   "outputs": [
    {
     "data": {
      "text/plain": [
       "'Data science is the study of data to extract meaningful insights for business.\\nIt is a multidisciplinary approach that combines principles and practices from the fields of\\nmathematics, statistics, artificial intelligence, and computer engineering to analyze large \\namounts of data.'"
      ]
     },
     "execution_count": 11,
     "metadata": {},
     "output_type": "execute_result"
    }
   ],
   "source": [
    "data_science.format()"
   ]
  },
  {
   "cell_type": "code",
   "execution_count": 12,
   "id": "7f35e4d9",
   "metadata": {},
   "outputs": [
    {
     "data": {
      "text/plain": [
       "'Data science is the study of data to extract meaningful insights for business.\\nIt is a multidisciplinary approach that combines principles and practices from the fields of\\nmathematics, statistics, artificial intelligence, and computer engineering to analyze large \\namounts of data.'"
      ]
     },
     "execution_count": 12,
     "metadata": {},
     "output_type": "execute_result"
    }
   ],
   "source": [
    "data_science.format_map(1)"
   ]
  },
  {
   "cell_type": "code",
   "execution_count": 13,
   "id": "ae406850",
   "metadata": {},
   "outputs": [
    {
     "data": {
      "text/plain": [
       "20"
      ]
     },
     "execution_count": 13,
     "metadata": {},
     "output_type": "execute_result"
    }
   ],
   "source": [
    "data_science.index('study')"
   ]
  },
  {
   "cell_type": "code",
   "execution_count": 14,
   "id": "66971cd8",
   "metadata": {},
   "outputs": [],
   "source": [
    "tt = data_science.split('\\t\\n')"
   ]
  },
  {
   "cell_type": "code",
   "execution_count": 15,
   "id": "cbc4c44f",
   "metadata": {},
   "outputs": [
    {
     "data": {
      "text/plain": [
       "['Data science is the study of data to extract meaningful insights for business.\\nIt is a multidisciplinary approach that combines principles and practices from the fields of\\nmathematics, statistics, artificial intelligence, and computer engineering to analyze large \\namounts of data.']"
      ]
     },
     "execution_count": 15,
     "metadata": {},
     "output_type": "execute_result"
    }
   ],
   "source": [
    "tt"
   ]
  },
  {
   "cell_type": "code",
   "execution_count": 16,
   "id": "9aecf392",
   "metadata": {},
   "outputs": [
    {
     "data": {
      "text/plain": [
       "'Data science is the study of data to extract meaningful insights for business.\\nIt is a multidisciplinary approach that combines principles and practices from the fields of\\nmathematics, statistics, artificial intelligence, and computer engineering to analyze large \\namounts of data.'"
      ]
     },
     "execution_count": 16,
     "metadata": {},
     "output_type": "execute_result"
    }
   ],
   "source": [
    "tt[0]"
   ]
  },
  {
   "cell_type": "code",
   "execution_count": 17,
   "id": "6d3d1130",
   "metadata": {},
   "outputs": [
    {
     "data": {
      "text/plain": [
       "'Data science is the study of Data science to extract meaningful insights for business.\\nIt is a multidisciplinary approach that combines principles and practices from the fields of\\nmathematics, statistics, artificial intelligence, and computer engineering to analyze large \\namounts of Data science.'"
      ]
     },
     "execution_count": 17,
     "metadata": {},
     "output_type": "execute_result"
    }
   ],
   "source": [
    "data_science.replace('data','Data science')"
   ]
  },
  {
   "cell_type": "code",
   "execution_count": 18,
   "id": "e59d1f29",
   "metadata": {},
   "outputs": [
    {
     "data": {
      "text/plain": [
       "False"
      ]
     },
     "execution_count": 18,
     "metadata": {},
     "output_type": "execute_result"
    }
   ],
   "source": [
    "data_science.startswith('f')"
   ]
  },
  {
   "cell_type": "code",
   "execution_count": 19,
   "id": "f0c6230b",
   "metadata": {},
   "outputs": [
    {
     "data": {
      "text/plain": [
       "'dATA SCIENCE IS THE STUDY OF DATA TO EXTRACT MEANINGFUL INSIGHTS FOR BUSINESS.\\niT IS A MULTIDISCIPLINARY APPROACH THAT COMBINES PRINCIPLES AND PRACTICES FROM THE FIELDS OF\\nMATHEMATICS, STATISTICS, ARTIFICIAL INTELLIGENCE, AND COMPUTER ENGINEERING TO ANALYZE LARGE \\nAMOUNTS OF DATA.'"
      ]
     },
     "execution_count": 19,
     "metadata": {},
     "output_type": "execute_result"
    }
   ],
   "source": [
    "data_science.swapcase()"
   ]
  },
  {
   "cell_type": "code",
   "execution_count": 20,
   "id": "3de9cffd",
   "metadata": {},
   "outputs": [
    {
     "data": {
      "text/plain": [
       "'Data science is the study of data to extract meaningful insights for business.\\nIt is a multidisciplinary approach that combines principles and practices from the fields of\\nmathematics, statistics, artificial intelligence, and computer engineering to analyze large \\namounts of data.'"
      ]
     },
     "execution_count": 20,
     "metadata": {},
     "output_type": "execute_result"
    }
   ],
   "source": [
    "data_science.zfill(2)"
   ]
  },
  {
   "cell_type": "code",
   "execution_count": 21,
   "id": "b5404df0",
   "metadata": {},
   "outputs": [
    {
     "data": {
      "text/plain": [
       "'Data science is the study of data to extract meaningful insights for business.\\nIt is a multidisciplinary approach that combines principles and practices from the fields of\\nmathematics, statistics, artificial intelligence, and computer engineering to analyze large \\namounts of data.'"
      ]
     },
     "execution_count": 21,
     "metadata": {},
     "output_type": "execute_result"
    }
   ],
   "source": [
    "data_science.ljust(5)"
   ]
  },
  {
   "cell_type": "code",
   "execution_count": 22,
   "id": "21731e7c",
   "metadata": {},
   "outputs": [
    {
     "data": {
      "text/plain": [
       "'                                                                                                                                                                                                                                                                                                                                                                                                                                                                                                                                       Data science is the study of data to extract meaningful insights for business.\\nIt is a multidisciplinary approach that combines principles and practices from the fields of\\nmathematics, statistics, artificial intelligence, and computer engineering to analyze large \\namounts of data.'"
      ]
     },
     "execution_count": 22,
     "metadata": {},
     "output_type": "execute_result"
    }
   ],
   "source": [
    "data_science.rjust(800)"
   ]
  },
  {
   "cell_type": "code",
   "execution_count": 23,
   "id": "c32ada82",
   "metadata": {},
   "outputs": [
    {
     "data": {
      "text/plain": [
       "False"
      ]
     },
     "execution_count": 23,
     "metadata": {},
     "output_type": "execute_result"
    }
   ],
   "source": [
    "data_science.isalnum()        #returns true if all the character are alphanumeric"
   ]
  },
  {
   "cell_type": "code",
   "execution_count": 24,
   "id": "fb5f2d10",
   "metadata": {},
   "outputs": [
    {
     "data": {
      "text/plain": [
       "False"
      ]
     },
     "execution_count": 24,
     "metadata": {},
     "output_type": "execute_result"
    }
   ],
   "source": [
    "data_science.isalpha()"
   ]
  },
  {
   "cell_type": "code",
   "execution_count": 25,
   "id": "23f51dba",
   "metadata": {},
   "outputs": [
    {
     "data": {
      "text/plain": [
       "True"
      ]
     },
     "execution_count": 25,
     "metadata": {},
     "output_type": "execute_result"
    }
   ],
   "source": [
    "data_science.isascii()"
   ]
  },
  {
   "cell_type": "code",
   "execution_count": 26,
   "id": "fd284909",
   "metadata": {},
   "outputs": [
    {
     "data": {
      "text/plain": [
       "False"
      ]
     },
     "execution_count": 26,
     "metadata": {},
     "output_type": "execute_result"
    }
   ],
   "source": [
    "data_science.isdecimal()"
   ]
  },
  {
   "cell_type": "code",
   "execution_count": 27,
   "id": "933572b0",
   "metadata": {},
   "outputs": [
    {
     "data": {
      "text/plain": [
       "False"
      ]
     },
     "execution_count": 27,
     "metadata": {},
     "output_type": "execute_result"
    }
   ],
   "source": [
    "data_science.isdigit()"
   ]
  },
  {
   "cell_type": "code",
   "execution_count": 28,
   "id": "4c1e624d",
   "metadata": {},
   "outputs": [
    {
     "data": {
      "text/plain": [
       "False"
      ]
     },
     "execution_count": 28,
     "metadata": {},
     "output_type": "execute_result"
    }
   ],
   "source": [
    "data_science.isidentifier()"
   ]
  },
  {
   "cell_type": "code",
   "execution_count": 29,
   "id": "4edd88a9",
   "metadata": {},
   "outputs": [
    {
     "data": {
      "text/plain": [
       "False"
      ]
     },
     "execution_count": 29,
     "metadata": {},
     "output_type": "execute_result"
    }
   ],
   "source": [
    "data_science.islower()"
   ]
  },
  {
   "cell_type": "code",
   "execution_count": 30,
   "id": "4e9e3899",
   "metadata": {},
   "outputs": [
    {
     "data": {
      "text/plain": [
       "False"
      ]
     },
     "execution_count": 30,
     "metadata": {},
     "output_type": "execute_result"
    }
   ],
   "source": [
    "data_science.isprintable()"
   ]
  },
  {
   "cell_type": "code",
   "execution_count": 31,
   "id": "31899b62",
   "metadata": {},
   "outputs": [
    {
     "data": {
      "text/plain": [
       "False"
      ]
     },
     "execution_count": 31,
     "metadata": {},
     "output_type": "execute_result"
    }
   ],
   "source": [
    "data_science.isspace()"
   ]
  },
  {
   "cell_type": "code",
   "execution_count": 32,
   "id": "bc42b0a8",
   "metadata": {},
   "outputs": [
    {
     "data": {
      "text/plain": [
       "False"
      ]
     },
     "execution_count": 32,
     "metadata": {},
     "output_type": "execute_result"
    }
   ],
   "source": [
    "data_science.istitle()"
   ]
  },
  {
   "cell_type": "code",
   "execution_count": 33,
   "id": "e0d334fb",
   "metadata": {},
   "outputs": [
    {
     "data": {
      "text/plain": [
       "False"
      ]
     },
     "execution_count": 33,
     "metadata": {},
     "output_type": "execute_result"
    }
   ],
   "source": [
    "data_science.isupper()"
   ]
  },
  {
   "cell_type": "code",
   "execution_count": 34,
   "id": "dcd1b1cc",
   "metadata": {},
   "outputs": [
    {
     "data": {
      "text/plain": [
       "'Data'"
      ]
     },
     "execution_count": 34,
     "metadata": {},
     "output_type": "execute_result"
    }
   ],
   "source": [
    "data_science[0:4]"
   ]
  },
  {
   "cell_type": "code",
   "execution_count": 35,
   "id": "205eec67",
   "metadata": {},
   "outputs": [
    {
     "data": {
      "text/plain": [
       "'Data science is the study of data to extract meaningful insights for business.'"
      ]
     },
     "execution_count": 35,
     "metadata": {},
     "output_type": "execute_result"
    }
   ],
   "source": [
    "data_science[0:78]"
   ]
  },
  {
   "cell_type": "code",
   "execution_count": 36,
   "id": "810f5842",
   "metadata": {},
   "outputs": [
    {
     "data": {
      "text/plain": [
       "'.'"
      ]
     },
     "execution_count": 36,
     "metadata": {},
     "output_type": "execute_result"
    }
   ],
   "source": [
    "data_science[-1]"
   ]
  },
  {
   "cell_type": "code",
   "execution_count": 37,
   "id": "be9f4b68",
   "metadata": {},
   "outputs": [
    {
     "data": {
      "text/plain": [
       "'data'"
      ]
     },
     "execution_count": 37,
     "metadata": {},
     "output_type": "execute_result"
    }
   ],
   "source": [
    "data_science[-5:-1]"
   ]
  },
  {
   "cell_type": "markdown",
   "id": "1b6300d4",
   "metadata": {},
   "source": [
    "accessing index:\n",
    "[Start:End:Step]    "
   ]
  },
  {
   "cell_type": "code",
   "execution_count": 38,
   "id": "2b9286a0",
   "metadata": {},
   "outputs": [
    {
     "data": {
      "text/plain": [
       "'Dt ce'"
      ]
     },
     "execution_count": 38,
     "metadata": {},
     "output_type": "execute_result"
    }
   ],
   "source": [
    "data_science[0:10:2]"
   ]
  },
  {
   "cell_type": "code",
   "execution_count": 39,
   "id": "5f2aaecf",
   "metadata": {},
   "outputs": [
    {
     "data": {
      "text/plain": [
       "'so aa'"
      ]
     },
     "execution_count": 39,
     "metadata": {},
     "output_type": "execute_result"
    }
   ],
   "source": [
    "data_science[-10:-1:2]          #if we take from the last we have to use negtive sign"
   ]
  },
  {
   "cell_type": "code",
   "execution_count": 40,
   "id": "c0b35d02",
   "metadata": {},
   "outputs": [
    {
     "data": {
      "text/plain": [
       "'Data science is the study of data to extract meaningful insights for business.\\nIt is a multidisciplinary approach that combines principles and practices from the fields of\\nmathematics, statistics, artificial intelligence, and computer engineering to analyze large \\namounts of data.'"
      ]
     },
     "execution_count": 40,
     "metadata": {},
     "output_type": "execute_result"
    }
   ],
   "source": [
    "data_science[::]"
   ]
  },
  {
   "cell_type": "code",
   "execution_count": 41,
   "id": "25712278",
   "metadata": {},
   "outputs": [
    {
     "data": {
      "text/plain": [
       "'Data '"
      ]
     },
     "execution_count": 41,
     "metadata": {},
     "output_type": "execute_result"
    }
   ],
   "source": [
    "data_science[:5:]"
   ]
  },
  {
   "cell_type": "code",
   "execution_count": 42,
   "id": "1e0b8c86",
   "metadata": {},
   "outputs": [
    {
     "data": {
      "text/plain": [
       "'Dc eya cnlgoi\\n tirrtosc remf titiriteam e al\\ntd'"
      ]
     },
     "execution_count": 42,
     "metadata": {},
     "output_type": "execute_result"
    }
   ],
   "source": [
    "data_science[::6]"
   ]
  },
  {
   "cell_type": "markdown",
   "id": "2bab4f02",
   "metadata": {},
   "source": [
    "#formating using format"
   ]
  },
  {
   "cell_type": "code",
   "execution_count": 43,
   "id": "fb810b2c",
   "metadata": {},
   "outputs": [],
   "source": [
    "age = 20\n",
    "weight = 90"
   ]
  },
  {
   "cell_type": "code",
   "execution_count": 44,
   "id": "00bce7f5",
   "metadata": {},
   "outputs": [],
   "source": [
    "statement = 'my age is{},my weight is{}'"
   ]
  },
  {
   "cell_type": "code",
   "execution_count": 45,
   "id": "ff33192f",
   "metadata": {},
   "outputs": [
    {
     "data": {
      "text/plain": [
       "'my age is20,my weight is90'"
      ]
     },
     "execution_count": 45,
     "metadata": {},
     "output_type": "execute_result"
    }
   ],
   "source": [
    "statement.format(age,weight)"
   ]
  },
  {
   "cell_type": "code",
   "execution_count": 46,
   "id": "bc652d45",
   "metadata": {},
   "outputs": [],
   "source": [
    " statement_2 = f'my age is {age}, my weight is {weight}'      #f is only follows for string"
   ]
  },
  {
   "cell_type": "code",
   "execution_count": 47,
   "id": "3f393502",
   "metadata": {},
   "outputs": [
    {
     "data": {
      "text/plain": [
       "'20'"
      ]
     },
     "execution_count": 47,
     "metadata": {},
     "output_type": "execute_result"
    }
   ],
   "source": [
    "f'{age}'"
   ]
  },
  {
   "cell_type": "code",
   "execution_count": 48,
   "id": "7bf31b6f",
   "metadata": {},
   "outputs": [
    {
     "data": {
      "text/plain": [
       "'60'"
      ]
     },
     "execution_count": 48,
     "metadata": {},
     "output_type": "execute_result"
    }
   ],
   "source": [
    "f'{age*3}'"
   ]
  },
  {
   "cell_type": "markdown",
   "id": "a0dab0af",
   "metadata": {},
   "source": [
    " user input function ->  input()"
   ]
  },
  {
   "cell_type": "code",
   "execution_count": 49,
   "id": "ee041e35",
   "metadata": {},
   "outputs": [
    {
     "name": "stdout",
     "output_type": "stream",
     "text": [
      "40\n",
      "40\n"
     ]
    }
   ],
   "source": [
    "x = input()\n",
    "print(x)"
   ]
  },
  {
   "cell_type": "code",
   "execution_count": 50,
   "id": "6ccd241f",
   "metadata": {},
   "outputs": [
    {
     "name": "stdout",
     "output_type": "stream",
     "text": [
      "24\n"
     ]
    }
   ],
   "source": [
    "y = input() \n"
   ]
  },
  {
   "cell_type": "code",
   "execution_count": 51,
   "id": "601cbc26",
   "metadata": {},
   "outputs": [
    {
     "data": {
      "text/plain": [
       "str"
      ]
     },
     "execution_count": 51,
     "metadata": {},
     "output_type": "execute_result"
    }
   ],
   "source": [
    "type(y)                  #it always take as string"
   ]
  },
  {
   "cell_type": "code",
   "execution_count": 54,
   "id": "fe83e190",
   "metadata": {},
   "outputs": [
    {
     "name": "stdout",
     "output_type": "stream",
     "text": [
      "34\n"
     ]
    }
   ],
   "source": [
    "z = int(input(\"\"))         #for an specific datatype we have to add their data type"
   ]
  },
  {
   "cell_type": "code",
   "execution_count": 55,
   "id": "70fd6c52",
   "metadata": {},
   "outputs": [
    {
     "data": {
      "text/plain": [
       "int"
      ]
     },
     "execution_count": 55,
     "metadata": {},
     "output_type": "execute_result"
    }
   ],
   "source": [
    "type(z)"
   ]
  },
  {
   "cell_type": "code",
   "execution_count": 56,
   "id": "19b00270",
   "metadata": {},
   "outputs": [
    {
     "name": "stdout",
     "output_type": "stream",
     "text": [
      "Please give your age: 34\n"
     ]
    }
   ],
   "source": [
    "x1 = input('Please give your age: ')"
   ]
  },
  {
   "cell_type": "code",
   "execution_count": 57,
   "id": "6012320c",
   "metadata": {},
   "outputs": [
    {
     "name": "stdout",
     "output_type": "stream",
     "text": [
      "please give your name:ANISH\n"
     ]
    }
   ],
   "source": [
    "x1 = input('please give your name:')"
   ]
  },
  {
   "cell_type": "code",
   "execution_count": 58,
   "id": "ff56c4e0",
   "metadata": {},
   "outputs": [
    {
     "name": "stdout",
     "output_type": "stream",
     "text": [
      "22\n",
      "90\n"
     ]
    },
    {
     "data": {
      "text/plain": [
       "'my age is 22 and my weight is 90'"
      ]
     },
     "execution_count": 58,
     "metadata": {},
     "output_type": "execute_result"
    }
   ],
   "source": [
    "f'my age is {input()} and my weight is {input()}'"
   ]
  },
  {
   "cell_type": "code",
   "execution_count": 60,
   "id": "0c51f7ee",
   "metadata": {},
   "outputs": [
    {
     "name": "stdout",
     "output_type": "stream",
     "text": [
      "80\n",
      "20\n"
     ]
    }
   ],
   "source": [
    "students_details = f'on an average my student attendance is {input()} and absence is {input()}'"
   ]
  },
  {
   "cell_type": "code",
   "execution_count": 61,
   "id": "fe52f9c8",
   "metadata": {},
   "outputs": [
    {
     "name": "stdout",
     "output_type": "stream",
     "text": [
      "on an average my student attendance is 80 and absence is 20\n"
     ]
    }
   ],
   "source": [
    "print(students_details)"
   ]
  },
  {
   "cell_type": "markdown",
   "id": "aee26d9f",
   "metadata": {},
   "source": [
    " string concatination:To concatenate, or combine, two strings you can use the + operator."
   ]
  },
  {
   "cell_type": "code",
   "execution_count": 64,
   "id": "508d3acb",
   "metadata": {},
   "outputs": [
    {
     "data": {
      "text/plain": [
       "('my age is{},my weight is{}',\n",
       " 'on an average my student attendance is 80 and absence is 20')"
      ]
     },
     "execution_count": 64,
     "metadata": {},
     "output_type": "execute_result"
    }
   ],
   "source": [
    "statement,students_details"
   ]
  },
  {
   "cell_type": "code",
   "execution_count": 65,
   "id": "f1ddd85c",
   "metadata": {},
   "outputs": [
    {
     "data": {
      "text/plain": [
       "'my age is{},my weight is{}------on an average my student attendance is 80 and absence is 20'"
      ]
     },
     "execution_count": 65,
     "metadata": {},
     "output_type": "execute_result"
    }
   ],
   "source": [
    "statement + '------' + students_details"
   ]
  },
  {
   "cell_type": "code",
   "execution_count": 66,
   "id": "f1b50898",
   "metadata": {},
   "outputs": [
    {
     "data": {
      "text/plain": [
       "26"
      ]
     },
     "execution_count": 66,
     "metadata": {},
     "output_type": "execute_result"
    }
   ],
   "source": [
    "len(statement)"
   ]
  },
  {
   "cell_type": "code",
   "execution_count": 67,
   "id": "15dfda08",
   "metadata": {},
   "outputs": [
    {
     "data": {
      "text/plain": [
       "29"
      ]
     },
     "execution_count": 67,
     "metadata": {},
     "output_type": "execute_result"
    }
   ],
   "source": [
    "len(statement_2)"
   ]
  },
  {
   "cell_type": "markdown",
   "id": "785b0ae9",
   "metadata": {},
   "source": [
    "#task : create a three variables and input()to get the statement/values of variables, you have to calculate/check which string has greater lenght?"
   ]
  },
  {
   "cell_type": "code",
   "execution_count": 76,
   "id": "c4462b1b",
   "metadata": {},
   "outputs": [
    {
     "name": "stdout",
     "output_type": "stream",
     "text": [
      "enter the value of the first variable :50\n",
      "enter the value of the second variable :30\n",
      "enter the value of third variable90\n"
     ]
    }
   ],
   "source": [
    "statement1 = (input(\"enter the value of the first variable :\"))\n",
    "statement2 = (input(\"enter the value of the second variable :\"))\n",
    "statement3 = (input(\"enter the value of third variable\"))"
   ]
  },
  {
   "cell_type": "code",
   "execution_count": 77,
   "id": "ed7725c3",
   "metadata": {},
   "outputs": [
    {
     "data": {
      "text/plain": [
       "2"
      ]
     },
     "execution_count": 77,
     "metadata": {},
     "output_type": "execute_result"
    }
   ],
   "source": [
    "len(statement1)"
   ]
  },
  {
   "cell_type": "code",
   "execution_count": 78,
   "id": "e7da11e5",
   "metadata": {},
   "outputs": [
    {
     "data": {
      "text/plain": [
       "2"
      ]
     },
     "execution_count": 78,
     "metadata": {},
     "output_type": "execute_result"
    }
   ],
   "source": [
    "len(statement2)"
   ]
  },
  {
   "cell_type": "code",
   "execution_count": 79,
   "id": "057f548e",
   "metadata": {},
   "outputs": [
    {
     "data": {
      "text/plain": [
       "2"
      ]
     },
     "execution_count": 79,
     "metadata": {},
     "output_type": "execute_result"
    }
   ],
   "source": [
    "len(statement3)"
   ]
  },
  {
   "cell_type": "code",
   "execution_count": 80,
   "id": "06cc40db",
   "metadata": {},
   "outputs": [
    {
     "data": {
      "text/plain": [
       "False"
      ]
     },
     "execution_count": 80,
     "metadata": {},
     "output_type": "execute_result"
    }
   ],
   "source": [
    "len(statement1)>len(statement2)"
   ]
  },
  {
   "cell_type": "code",
   "execution_count": 81,
   "id": "a5d35247",
   "metadata": {},
   "outputs": [
    {
     "data": {
      "text/plain": [
       "False"
      ]
     },
     "execution_count": 81,
     "metadata": {},
     "output_type": "execute_result"
    }
   ],
   "source": [
    "len(statement1)>len(statement3)"
   ]
  },
  {
   "cell_type": "markdown",
   "id": "af994689",
   "metadata": {},
   "source": [
    "# list \n",
    "Lists are used to store multiple items in a single variable.\n",
    "Lists are created using square brackets"
   ]
  },
  {
   "cell_type": "code",
   "execution_count": 143,
   "id": "8404ed7d",
   "metadata": {},
   "outputs": [],
   "source": [
    "L1 = [10,11,12,13,14,15,16,17,18,19,20]\n",
    "L2 = ['A','B','C','D','E']\n"
   ]
  },
  {
   "cell_type": "code",
   "execution_count": 86,
   "id": "c63d9c6d",
   "metadata": {},
   "outputs": [
    {
     "data": {
      "text/plain": [
       "list"
      ]
     },
     "execution_count": 86,
     "metadata": {},
     "output_type": "execute_result"
    }
   ],
   "source": [
    "type(L1)"
   ]
  },
  {
   "cell_type": "code",
   "execution_count": 87,
   "id": "d88069f6",
   "metadata": {},
   "outputs": [
    {
     "data": {
      "text/plain": [
       "[10, 11, 12, 13, 14, 15, 16, 17, 18, 19, 20]"
      ]
     },
     "execution_count": 87,
     "metadata": {},
     "output_type": "execute_result"
    }
   ],
   "source": [
    "L1[::]                                                    #SLICING"
   ]
  },
  {
   "cell_type": "code",
   "execution_count": 88,
   "id": "4da21589",
   "metadata": {},
   "outputs": [
    {
     "data": {
      "text/plain": [
       "[10, 12, 14, 16, 18, 20]"
      ]
     },
     "execution_count": 88,
     "metadata": {},
     "output_type": "execute_result"
    }
   ],
   "source": [
    "L1[0:11:2]"
   ]
  },
  {
   "cell_type": "code",
   "execution_count": 89,
   "id": "e2c9245d",
   "metadata": {},
   "outputs": [
    {
     "data": {
      "text/plain": [
       "[10, 13, 16, 19]"
      ]
     },
     "execution_count": 89,
     "metadata": {},
     "output_type": "execute_result"
    }
   ],
   "source": [
    "L1[:11:3]"
   ]
  },
  {
   "cell_type": "code",
   "execution_count": 90,
   "id": "5019f0db",
   "metadata": {},
   "outputs": [
    {
     "data": {
      "text/plain": [
       "[10, 11, 12, 13, 14, 15, 16, 17]"
      ]
     },
     "execution_count": 90,
     "metadata": {},
     "output_type": "execute_result"
    }
   ],
   "source": [
    "L1[0:8]"
   ]
  },
  {
   "cell_type": "code",
   "execution_count": 91,
   "id": "5b66d46c",
   "metadata": {},
   "outputs": [
    {
     "data": {
      "text/plain": [
       "[10, 12, 14, 16]"
      ]
     },
     "execution_count": 91,
     "metadata": {},
     "output_type": "execute_result"
    }
   ],
   "source": [
    "L1[0:8:2]"
   ]
  },
  {
   "cell_type": "code",
   "execution_count": 92,
   "id": "ed79e191",
   "metadata": {},
   "outputs": [],
   "source": [
    "L3 = L1+L2                                 #JOINING"
   ]
  },
  {
   "cell_type": "code",
   "execution_count": 93,
   "id": "79676bc0",
   "metadata": {},
   "outputs": [
    {
     "data": {
      "text/plain": [
       "[10, 11, 12, 13, 14, 15, 16, 17, 18, 19, 20, 'A', 'B', 'C', 'D', 'E']"
      ]
     },
     "execution_count": 93,
     "metadata": {},
     "output_type": "execute_result"
    }
   ],
   "source": [
    "L3"
   ]
  },
  {
   "cell_type": "code",
   "execution_count": 94,
   "id": "42087e61",
   "metadata": {},
   "outputs": [],
   "source": [
    "L1.append(L2)              #ACCESS USING FUNCTION"
   ]
  },
  {
   "cell_type": "code",
   "execution_count": 95,
   "id": "3944fa76",
   "metadata": {},
   "outputs": [
    {
     "data": {
      "text/plain": [
       "[10, 11, 12, 13, 14, 15, 16, 17, 18, 19, 20, ['A', 'B', 'C', 'D', 'E']]"
      ]
     },
     "execution_count": 95,
     "metadata": {},
     "output_type": "execute_result"
    }
   ],
   "source": [
    "L1"
   ]
  },
  {
   "cell_type": "code",
   "execution_count": 96,
   "id": "68520375",
   "metadata": {},
   "outputs": [],
   "source": [
    "L3 = L1.copy()"
   ]
  },
  {
   "cell_type": "code",
   "execution_count": 97,
   "id": "87525071",
   "metadata": {},
   "outputs": [
    {
     "data": {
      "text/plain": [
       "[10, 11, 12, 13, 14, 15, 16, 17, 18, 19, 20, ['A', 'B', 'C', 'D', 'E']]"
      ]
     },
     "execution_count": 97,
     "metadata": {},
     "output_type": "execute_result"
    }
   ],
   "source": [
    "L3"
   ]
  },
  {
   "cell_type": "code",
   "execution_count": 98,
   "id": "95cf0ca1",
   "metadata": {},
   "outputs": [
    {
     "data": {
      "text/plain": [
       "0"
      ]
     },
     "execution_count": 98,
     "metadata": {},
     "output_type": "execute_result"
    }
   ],
   "source": [
    "L1.count(L1)"
   ]
  },
  {
   "cell_type": "code",
   "execution_count": 99,
   "id": "6f6e6308",
   "metadata": {},
   "outputs": [],
   "source": [
    "L1.extend(L3)"
   ]
  },
  {
   "cell_type": "code",
   "execution_count": 100,
   "id": "a775fd17",
   "metadata": {},
   "outputs": [
    {
     "data": {
      "text/plain": [
       "[10, 11, 12, 13, 14, 15, 16, 17, 18, 19, 20, ['A', 'B', 'C', 'D', 'E']]"
      ]
     },
     "execution_count": 100,
     "metadata": {},
     "output_type": "execute_result"
    }
   ],
   "source": [
    "L3"
   ]
  },
  {
   "cell_type": "code",
   "execution_count": 1,
   "id": "1f83b7f9",
   "metadata": {},
   "outputs": [
    {
     "ename": "NameError",
     "evalue": "name 'L1' is not defined",
     "output_type": "error",
     "traceback": [
      "\u001b[1;31m---------------------------------------------------------------------------\u001b[0m",
      "\u001b[1;31mNameError\u001b[0m                                 Traceback (most recent call last)",
      "Cell \u001b[1;32mIn[1], line 1\u001b[0m\n\u001b[1;32m----> 1\u001b[0m L1\u001b[38;5;241m.\u001b[39mindex(\u001b[38;5;241m12\u001b[39m)\n",
      "\u001b[1;31mNameError\u001b[0m: name 'L1' is not defined"
     ]
    }
   ],
   "source": [
    "L1.index(12)"
   ]
  },
  {
   "cell_type": "code",
   "execution_count": 102,
   "id": "0c48e5e7",
   "metadata": {},
   "outputs": [],
   "source": [
    "L2.insert(21,22)"
   ]
  },
  {
   "cell_type": "code",
   "execution_count": 103,
   "id": "e3face63",
   "metadata": {},
   "outputs": [
    {
     "data": {
      "text/plain": [
       "['A', 'B', 'C', 'D', 'E', 22]"
      ]
     },
     "execution_count": 103,
     "metadata": {},
     "output_type": "execute_result"
    }
   ],
   "source": [
    "L2\n"
   ]
  },
  {
   "cell_type": "code",
   "execution_count": 104,
   "id": "1f0710b9",
   "metadata": {},
   "outputs": [
    {
     "data": {
      "text/plain": [
       "22"
      ]
     },
     "execution_count": 104,
     "metadata": {},
     "output_type": "execute_result"
    }
   ],
   "source": [
    "L2.pop()"
   ]
  },
  {
   "cell_type": "code",
   "execution_count": 105,
   "id": "ca318dec",
   "metadata": {},
   "outputs": [
    {
     "data": {
      "text/plain": [
       "['A', 'B', 'C', 'D', 'E']"
      ]
     },
     "execution_count": 105,
     "metadata": {},
     "output_type": "execute_result"
    }
   ],
   "source": [
    "L2"
   ]
  },
  {
   "cell_type": "code",
   "execution_count": 106,
   "id": "d98755cb",
   "metadata": {},
   "outputs": [],
   "source": [
    "L2.remove('E')"
   ]
  },
  {
   "cell_type": "code",
   "execution_count": 107,
   "id": "ed3511f9",
   "metadata": {},
   "outputs": [
    {
     "data": {
      "text/plain": [
       "['A', 'B', 'C', 'D']"
      ]
     },
     "execution_count": 107,
     "metadata": {},
     "output_type": "execute_result"
    }
   ],
   "source": [
    "L2"
   ]
  },
  {
   "cell_type": "code",
   "execution_count": 108,
   "id": "25dc18c9",
   "metadata": {},
   "outputs": [],
   "source": [
    "L2.reverse()"
   ]
  },
  {
   "cell_type": "code",
   "execution_count": 109,
   "id": "57e0dd08",
   "metadata": {},
   "outputs": [
    {
     "data": {
      "text/plain": [
       "['D', 'C', 'B', 'A']"
      ]
     },
     "execution_count": 109,
     "metadata": {},
     "output_type": "execute_result"
    }
   ],
   "source": [
    "L2"
   ]
  },
  {
   "cell_type": "code",
   "execution_count": 110,
   "id": "4168cc41",
   "metadata": {},
   "outputs": [],
   "source": [
    "L2.sort()"
   ]
  },
  {
   "cell_type": "code",
   "execution_count": 111,
   "id": "3ecaec6e",
   "metadata": {},
   "outputs": [
    {
     "data": {
      "text/plain": [
       "['A', 'B', 'C', 'D']"
      ]
     },
     "execution_count": 111,
     "metadata": {},
     "output_type": "execute_result"
    }
   ],
   "source": [
    "L2"
   ]
  },
  {
   "cell_type": "code",
   "execution_count": 112,
   "id": "6908b98c",
   "metadata": {},
   "outputs": [
    {
     "name": "stdout",
     "output_type": "stream",
     "text": [
      "['one', 'two', 'three', 'four', 51]\n"
     ]
    }
   ],
   "source": [
    "myList = [\"one\", \"two\", 37, \"four\", 51];                    #updation\n",
    "myList[2] = \"three\";\n",
    "print(myList);"
   ]
  },
  {
   "cell_type": "code",
   "execution_count": 113,
   "id": "986cee89",
   "metadata": {},
   "outputs": [],
   "source": [
    "LL1 = 2                                                # type casting"
   ]
  },
  {
   "cell_type": "code",
   "execution_count": 114,
   "id": "77fba501",
   "metadata": {},
   "outputs": [
    {
     "data": {
      "text/plain": [
       "int"
      ]
     },
     "execution_count": 114,
     "metadata": {},
     "output_type": "execute_result"
    }
   ],
   "source": [
    "type(LL1)"
   ]
  },
  {
   "cell_type": "code",
   "execution_count": 115,
   "id": "57cebf7b",
   "metadata": {},
   "outputs": [],
   "source": [
    "X = float(LL1)"
   ]
  },
  {
   "cell_type": "code",
   "execution_count": 116,
   "id": "7494dcb9",
   "metadata": {},
   "outputs": [
    {
     "data": {
      "text/plain": [
       "2.0"
      ]
     },
     "execution_count": 116,
     "metadata": {},
     "output_type": "execute_result"
    }
   ],
   "source": [
    "X"
   ]
  },
  {
   "cell_type": "markdown",
   "id": "3babdefb",
   "metadata": {},
   "source": [
    "# data structures\n",
    "1) string\n",
    "2) list\n",
    " 3)set\n",
    "4) tuple\n",
    "5) dictionary\n"
   ]
  },
  {
   "cell_type": "markdown",
   "id": "af68bc36",
   "metadata": {},
   "source": [
    "string : slicing,joining,concatination,access,deletion,iterating,casting\n",
    " LIST : SLICING, ACCESS, UPDATION,DELETION,ITERATING,CASTING\n",
    "  TUPLE:  SLICNG,ITERATING,Casting\n",
    "    SET : ITERATING,CASTING,UPDATION,DELETION,SET OPERATION(UNION,DIFFEERENCE,INTERSECTION)\n",
    "     dictionary: slicing using a function,accesssing using function,deletion,iterating,casting only using a function "
   ]
  },
  {
   "cell_type": "code",
   "execution_count": 117,
   "id": "bed0dee6",
   "metadata": {},
   "outputs": [],
   "source": [
    "L1 = [10,11,12,13,14,15]\n",
    "L2 = [11,15,18,19,16,27,12]"
   ]
  },
  {
   "cell_type": "code",
   "execution_count": 118,
   "id": "0b57ddb2",
   "metadata": {},
   "outputs": [
    {
     "name": "stdout",
     "output_type": "stream",
     "text": [
      "[10, 12, 14]\n"
     ]
    }
   ],
   "source": [
    "print(L1[0:7:2])            #[START:END:STEP]"
   ]
  },
  {
   "cell_type": "code",
   "execution_count": 119,
   "id": "055159ed",
   "metadata": {},
   "outputs": [
    {
     "data": {
      "text/plain": [
       "[10, 11, 12, 13, 14, 15, 11, 15, 18, 19, 16, 27, 12]"
      ]
     },
     "execution_count": 119,
     "metadata": {},
     "output_type": "execute_result"
    }
   ],
   "source": [
    "L1 + L2                   #JOINING"
   ]
  },
  {
   "cell_type": "code",
   "execution_count": 120,
   "id": "bbb3c544",
   "metadata": {},
   "outputs": [
    {
     "data": {
      "text/plain": [
       "[10, 11, 12, 13, 14, 15, 10, 11, 12, 13, 14, 15]"
      ]
     },
     "execution_count": 120,
     "metadata": {},
     "output_type": "execute_result"
    }
   ],
   "source": [
    "L1*2"
   ]
  },
  {
   "cell_type": "code",
   "execution_count": 121,
   "id": "e2d9bd08",
   "metadata": {},
   "outputs": [],
   "source": [
    "    L1[4]=105"
   ]
  },
  {
   "cell_type": "code",
   "execution_count": 122,
   "id": "70d31983",
   "metadata": {},
   "outputs": [
    {
     "data": {
      "text/plain": [
       "[10, 11, 12, 13, 105, 15]"
      ]
     },
     "execution_count": 122,
     "metadata": {},
     "output_type": "execute_result"
    }
   ],
   "source": [
    "L1"
   ]
  },
  {
   "cell_type": "code",
   "execution_count": 123,
   "id": "864726e7",
   "metadata": {},
   "outputs": [],
   "source": [
    "L1.append(188)     #WE CAN APPEND MULTILE VALUES"
   ]
  },
  {
   "cell_type": "code",
   "execution_count": 124,
   "id": "9760b237",
   "metadata": {},
   "outputs": [
    {
     "data": {
      "text/plain": [
       "[10, 11, 12, 13, 105, 15, 188]"
      ]
     },
     "execution_count": 124,
     "metadata": {},
     "output_type": "execute_result"
    }
   ],
   "source": [
    "L1"
   ]
  },
  {
   "cell_type": "code",
   "execution_count": 125,
   "id": "0c2c84b6",
   "metadata": {},
   "outputs": [],
   "source": [
    "L1.clear()"
   ]
  },
  {
   "cell_type": "code",
   "execution_count": 126,
   "id": "7c370989",
   "metadata": {},
   "outputs": [
    {
     "data": {
      "text/plain": [
       "[]"
      ]
     },
     "execution_count": 126,
     "metadata": {},
     "output_type": "execute_result"
    }
   ],
   "source": [
    "L1"
   ]
  },
  {
   "cell_type": "code",
   "execution_count": 127,
   "id": "e6ee88eb",
   "metadata": {},
   "outputs": [],
   "source": [
    " L3=L1.copy()"
   ]
  },
  {
   "cell_type": "code",
   "execution_count": 128,
   "id": "81d34215",
   "metadata": {},
   "outputs": [
    {
     "data": {
      "text/plain": [
       "[]"
      ]
     },
     "execution_count": 128,
     "metadata": {},
     "output_type": "execute_result"
    }
   ],
   "source": [
    "L3"
   ]
  },
  {
   "cell_type": "code",
   "execution_count": 129,
   "id": "0d33a848",
   "metadata": {},
   "outputs": [
    {
     "data": {
      "text/plain": [
       "0"
      ]
     },
     "execution_count": 129,
     "metadata": {},
     "output_type": "execute_result"
    }
   ],
   "source": [
    "L3.count(11)"
   ]
  },
  {
   "cell_type": "code",
   "execution_count": 130,
   "id": "173d52bf",
   "metadata": {},
   "outputs": [],
   "source": [
    "L2.extend(L3)"
   ]
  },
  {
   "cell_type": "code",
   "execution_count": 131,
   "id": "fcced2a9",
   "metadata": {},
   "outputs": [
    {
     "data": {
      "text/plain": [
       "[11, 15, 18, 19, 16, 27, 12]"
      ]
     },
     "execution_count": 131,
     "metadata": {},
     "output_type": "execute_result"
    }
   ],
   "source": [
    "L2"
   ]
  },
  {
   "cell_type": "code",
   "execution_count": 132,
   "id": "5f8b4d47",
   "metadata": {},
   "outputs": [
    {
     "data": {
      "text/plain": [
       "1"
      ]
     },
     "execution_count": 132,
     "metadata": {},
     "output_type": "execute_result"
    }
   ],
   "source": [
    "L2.index(15)"
   ]
  },
  {
   "cell_type": "code",
   "execution_count": 133,
   "id": "3e294961",
   "metadata": {},
   "outputs": [],
   "source": [
    "L2.insert(1,'#')"
   ]
  },
  {
   "cell_type": "code",
   "execution_count": 134,
   "id": "57712dad",
   "metadata": {},
   "outputs": [
    {
     "data": {
      "text/plain": [
       "[11, '#', 15, 18, 19, 16, 27, 12]"
      ]
     },
     "execution_count": 134,
     "metadata": {},
     "output_type": "execute_result"
    }
   ],
   "source": [
    "L2"
   ]
  },
  {
   "cell_type": "code",
   "execution_count": 135,
   "id": "4a7a2527",
   "metadata": {},
   "outputs": [
    {
     "data": {
      "text/plain": [
       "12"
      ]
     },
     "execution_count": 135,
     "metadata": {},
     "output_type": "execute_result"
    }
   ],
   "source": [
    "L2.pop()"
   ]
  },
  {
   "cell_type": "code",
   "execution_count": 136,
   "id": "83214170",
   "metadata": {},
   "outputs": [
    {
     "data": {
      "text/plain": [
       "[11, '#', 15, 18, 19, 16, 27]"
      ]
     },
     "execution_count": 136,
     "metadata": {},
     "output_type": "execute_result"
    }
   ],
   "source": [
    "L2"
   ]
  },
  {
   "cell_type": "code",
   "execution_count": 137,
   "id": "4747eebd",
   "metadata": {},
   "outputs": [],
   "source": [
    "L2.remove(15)"
   ]
  },
  {
   "cell_type": "code",
   "execution_count": 138,
   "id": "16b9bb5f",
   "metadata": {},
   "outputs": [
    {
     "data": {
      "text/plain": [
       "[11, '#', 18, 19, 16, 27]"
      ]
     },
     "execution_count": 138,
     "metadata": {},
     "output_type": "execute_result"
    }
   ],
   "source": [
    "L2"
   ]
  },
  {
   "cell_type": "code",
   "execution_count": 139,
   "id": "b5b54a45",
   "metadata": {},
   "outputs": [],
   "source": [
    "L2.reverse()"
   ]
  },
  {
   "cell_type": "code",
   "execution_count": 140,
   "id": "5cfcd286",
   "metadata": {},
   "outputs": [
    {
     "data": {
      "text/plain": [
       "[27, 16, 19, 18, '#', 11]"
      ]
     },
     "execution_count": 140,
     "metadata": {},
     "output_type": "execute_result"
    }
   ],
   "source": [
    "L2"
   ]
  },
  {
   "cell_type": "code",
   "execution_count": 141,
   "id": "d17c2669",
   "metadata": {},
   "outputs": [],
   "source": [
    "L1.sort(reverse = True)"
   ]
  },
  {
   "cell_type": "code",
   "execution_count": 142,
   "id": "d49114e2",
   "metadata": {},
   "outputs": [
    {
     "data": {
      "text/plain": [
       "[]"
      ]
     },
     "execution_count": 142,
     "metadata": {},
     "output_type": "execute_result"
    }
   ],
   "source": [
    "L1"
   ]
  },
  {
   "cell_type": "markdown",
   "id": "bf36b85b",
   "metadata": {},
   "source": [
    "# Tuple\n",
    "Tuples are used to store multiple items in a single variable.A tuple is a collection which is ordered(it means that the items have a defined order, and that order will not change.) and unchangeable(we cannot change, add or remove items after the tuple has been created)"
   ]
  },
  {
   "cell_type": "code",
   "execution_count": 144,
   "id": "c178a8eb",
   "metadata": {},
   "outputs": [],
   "source": [
    "T1 = 10,'EXCELR',10J+1  "
   ]
  },
  {
   "cell_type": "code",
   "execution_count": 145,
   "id": "66eba1cc",
   "metadata": {},
   "outputs": [
    {
     "data": {
      "text/plain": [
       "tuple"
      ]
     },
     "execution_count": 145,
     "metadata": {},
     "output_type": "execute_result"
    }
   ],
   "source": [
    "type(T1)"
   ]
  },
  {
   "cell_type": "code",
   "execution_count": 146,
   "id": "c918fc53",
   "metadata": {},
   "outputs": [
    {
     "data": {
      "text/plain": [
       "1"
      ]
     },
     "execution_count": 146,
     "metadata": {},
     "output_type": "execute_result"
    }
   ],
   "source": [
    "T1.count(10)"
   ]
  },
  {
   "cell_type": "code",
   "execution_count": 147,
   "id": "8b677e73",
   "metadata": {},
   "outputs": [
    {
     "data": {
      "text/plain": [
       "0"
      ]
     },
     "execution_count": 147,
     "metadata": {},
     "output_type": "execute_result"
    }
   ],
   "source": [
    "T1.index(10)"
   ]
  },
  {
   "cell_type": "code",
   "execution_count": 148,
   "id": "6db2736a",
   "metadata": {},
   "outputs": [],
   "source": [
    "T2 = ('ONE', 2,'THREE',4)"
   ]
  },
  {
   "cell_type": "code",
   "execution_count": 149,
   "id": "4cb915e9",
   "metadata": {},
   "outputs": [
    {
     "data": {
      "text/plain": [
       "(10, 'EXCELR', (1+10j), 'ONE', 2, 'THREE', 4)"
      ]
     },
     "execution_count": 149,
     "metadata": {},
     "output_type": "execute_result"
    }
   ],
   "source": [
    "T1+T2"
   ]
  },
  {
   "cell_type": "code",
   "execution_count": 150,
   "id": "5c0769bc",
   "metadata": {},
   "outputs": [],
   "source": [
    "  T3 = list(T1)"
   ]
  },
  {
   "cell_type": "code",
   "execution_count": 151,
   "id": "2b4259bd",
   "metadata": {},
   "outputs": [],
   "source": [
    "T3[0] = 11"
   ]
  },
  {
   "cell_type": "code",
   "execution_count": 152,
   "id": "cc14ab4a",
   "metadata": {},
   "outputs": [
    {
     "data": {
      "text/plain": [
       "[11, 'EXCELR', (1+10j)]"
      ]
     },
     "execution_count": 152,
     "metadata": {},
     "output_type": "execute_result"
    }
   ],
   "source": [
    "T3"
   ]
  },
  {
   "cell_type": "code",
   "execution_count": 153,
   "id": "28f58284",
   "metadata": {},
   "outputs": [],
   "source": [
    "T3 = tuple(T3)"
   ]
  },
  {
   "cell_type": "code",
   "execution_count": 154,
   "id": "559cd6c5",
   "metadata": {},
   "outputs": [
    {
     "data": {
      "text/plain": [
       "tuple"
      ]
     },
     "execution_count": 154,
     "metadata": {},
     "output_type": "execute_result"
    }
   ],
   "source": [
    "type(T3)"
   ]
  },
  {
   "cell_type": "markdown",
   "id": "f8b6e69a",
   "metadata": {},
   "source": [
    "# set\n",
    "Sets are used to store multiple items in a single variable.A set is a collection which is unordered(items in a set do not have a defined order.Set items can appear in a different order every time you use them, and cannot be referred to by index or key.), unchangeable(Set items are unchangeable, meaning that we cannot change the items after the set has been created), and unindexed.Set items are unchangeable, but you can remove items and add new items.Sets are unordered, so you cannot be sure in which order the items will appear.Set items are unordered, unchangeable, and do not allow duplicate values(Sets cannot have two items with the same value).Once a set is created, you cannot change its items, but you can remove items and add new items."
   ]
  },
  {
   "cell_type": "code",
   "execution_count": 155,
   "id": "f57e0d49",
   "metadata": {},
   "outputs": [],
   "source": [
    "S1 = {101,102,103,105,110,99,88,110,101}"
   ]
  },
  {
   "cell_type": "code",
   "execution_count": 156,
   "id": "f8ec1a8d",
   "metadata": {},
   "outputs": [
    {
     "data": {
      "text/plain": [
       "{88, 99, 101, 102, 103, 105, 110}"
      ]
     },
     "execution_count": 156,
     "metadata": {},
     "output_type": "execute_result"
    }
   ],
   "source": [
    "S1                 #REMOVING THE REPETITIVE VALUE #SORTED MANNER"
   ]
  },
  {
   "cell_type": "code",
   "execution_count": 157,
   "id": "d3249555",
   "metadata": {},
   "outputs": [],
   "source": [
    "S2 = {201,202,205,208,99,88,110,101}"
   ]
  },
  {
   "cell_type": "code",
   "execution_count": 158,
   "id": "25317e3e",
   "metadata": {},
   "outputs": [
    {
     "data": {
      "text/plain": [
       "set"
      ]
     },
     "execution_count": 158,
     "metadata": {},
     "output_type": "execute_result"
    }
   ],
   "source": [
    "type(S1)"
   ]
  },
  {
   "cell_type": "code",
   "execution_count": 159,
   "id": "20d4d0e8",
   "metadata": {},
   "outputs": [],
   "source": [
    "S1.add(22222)"
   ]
  },
  {
   "cell_type": "code",
   "execution_count": 160,
   "id": "ad0e486f",
   "metadata": {},
   "outputs": [
    {
     "data": {
      "text/plain": [
       "{88, 99, 101, 102, 103, 105, 110, 22222}"
      ]
     },
     "execution_count": 160,
     "metadata": {},
     "output_type": "execute_result"
    }
   ],
   "source": [
    "S1"
   ]
  },
  {
   "cell_type": "code",
   "execution_count": 161,
   "id": "a9bb27da",
   "metadata": {},
   "outputs": [],
   "source": [
    "S3 =S1.copy()"
   ]
  },
  {
   "cell_type": "code",
   "execution_count": 162,
   "id": "a452a3a0",
   "metadata": {},
   "outputs": [
    {
     "data": {
      "text/plain": [
       "{88, 99, 101, 102, 103, 105, 110, 22222}"
      ]
     },
     "execution_count": 162,
     "metadata": {},
     "output_type": "execute_result"
    }
   ],
   "source": [
    "S3"
   ]
  },
  {
   "cell_type": "code",
   "execution_count": 163,
   "id": "cfda822b",
   "metadata": {},
   "outputs": [
    {
     "data": {
      "text/plain": [
       "{102, 103, 105, 22222}"
      ]
     },
     "execution_count": 163,
     "metadata": {},
     "output_type": "execute_result"
    }
   ],
   "source": [
    "S1.difference(S2)"
   ]
  },
  {
   "cell_type": "code",
   "execution_count": 164,
   "id": "92d3cad9",
   "metadata": {},
   "outputs": [
    {
     "data": {
      "text/plain": [
       "{88, 99, 101, 102, 103, 105, 110, 22222}"
      ]
     },
     "execution_count": 164,
     "metadata": {},
     "output_type": "execute_result"
    }
   ],
   "source": [
    "S1"
   ]
  },
  {
   "cell_type": "code",
   "execution_count": 165,
   "id": "0a14a27b",
   "metadata": {},
   "outputs": [],
   "source": [
    "S1.difference_update(S2)"
   ]
  },
  {
   "cell_type": "code",
   "execution_count": 166,
   "id": "b1294458",
   "metadata": {},
   "outputs": [
    {
     "data": {
      "text/plain": [
       "{102, 103, 105, 22222}"
      ]
     },
     "execution_count": 166,
     "metadata": {},
     "output_type": "execute_result"
    }
   ],
   "source": [
    "S1"
   ]
  },
  {
   "cell_type": "code",
   "execution_count": 167,
   "id": "8e0e4c1b",
   "metadata": {},
   "outputs": [
    {
     "data": {
      "text/plain": [
       "{88, 99, 101, 110, 201, 202, 205, 208}"
      ]
     },
     "execution_count": 167,
     "metadata": {},
     "output_type": "execute_result"
    }
   ],
   "source": [
    "S2"
   ]
  },
  {
   "cell_type": "code",
   "execution_count": 168,
   "id": "6e0ba5f2",
   "metadata": {},
   "outputs": [],
   "source": [
    "S1.discard(102)"
   ]
  },
  {
   "cell_type": "code",
   "execution_count": 169,
   "id": "112df762",
   "metadata": {},
   "outputs": [
    {
     "data": {
      "text/plain": [
       "{103, 105, 22222}"
      ]
     },
     "execution_count": 169,
     "metadata": {},
     "output_type": "execute_result"
    }
   ],
   "source": [
    "S1"
   ]
  },
  {
   "cell_type": "code",
   "execution_count": 170,
   "id": "186d478d",
   "metadata": {},
   "outputs": [
    {
     "data": {
      "text/plain": [
       "{103, 105, 22222}"
      ]
     },
     "execution_count": 170,
     "metadata": {},
     "output_type": "execute_result"
    }
   ],
   "source": [
    "S1.intersection(S3)"
   ]
  },
  {
   "cell_type": "code",
   "execution_count": 171,
   "id": "a56df97a",
   "metadata": {},
   "outputs": [],
   "source": [
    "S1.intersection_update(S3)"
   ]
  },
  {
   "cell_type": "code",
   "execution_count": 172,
   "id": "7a1a1f42",
   "metadata": {},
   "outputs": [
    {
     "data": {
      "text/plain": [
       "{103, 105, 22222}"
      ]
     },
     "execution_count": 172,
     "metadata": {},
     "output_type": "execute_result"
    }
   ],
   "source": [
    "S1"
   ]
  },
  {
   "cell_type": "code",
   "execution_count": 173,
   "id": "fd554753",
   "metadata": {},
   "outputs": [
    {
     "data": {
      "text/plain": [
       "False"
      ]
     },
     "execution_count": 173,
     "metadata": {},
     "output_type": "execute_result"
    }
   ],
   "source": [
    "S1.isdisjoint(S3)\n"
   ]
  },
  {
   "cell_type": "code",
   "execution_count": 174,
   "id": "44cad004",
   "metadata": {},
   "outputs": [
    {
     "data": {
      "text/plain": [
       "({103, 105, 22222},\n",
       " {88, 99, 101, 110, 201, 202, 205, 208},\n",
       " {88, 99, 101, 102, 103, 105, 110, 22222})"
      ]
     },
     "execution_count": 174,
     "metadata": {},
     "output_type": "execute_result"
    }
   ],
   "source": [
    "S1,S2,S3"
   ]
  },
  {
   "cell_type": "code",
   "execution_count": 175,
   "id": "3ccd27ff",
   "metadata": {},
   "outputs": [
    {
     "data": {
      "text/plain": [
       "True"
      ]
     },
     "execution_count": 175,
     "metadata": {},
     "output_type": "execute_result"
    }
   ],
   "source": [
    "S1.issubset(S1)"
   ]
  },
  {
   "cell_type": "code",
   "execution_count": 176,
   "id": "1864f0bb",
   "metadata": {},
   "outputs": [
    {
     "data": {
      "text/plain": [
       "False"
      ]
     },
     "execution_count": 176,
     "metadata": {},
     "output_type": "execute_result"
    }
   ],
   "source": [
    "S1.issuperset(S2)"
   ]
  },
  {
   "cell_type": "code",
   "execution_count": 177,
   "id": "8bb32424",
   "metadata": {},
   "outputs": [
    {
     "data": {
      "text/plain": [
       "99"
      ]
     },
     "execution_count": 177,
     "metadata": {},
     "output_type": "execute_result"
    }
   ],
   "source": [
    "S2.pop()"
   ]
  },
  {
   "cell_type": "code",
   "execution_count": 178,
   "id": "70efd280",
   "metadata": {},
   "outputs": [
    {
     "data": {
      "text/plain": [
       "{88, 101, 110, 201, 202, 205, 208}"
      ]
     },
     "execution_count": 178,
     "metadata": {},
     "output_type": "execute_result"
    }
   ],
   "source": [
    "S2"
   ]
  },
  {
   "cell_type": "code",
   "execution_count": 179,
   "id": "a059b5b7",
   "metadata": {},
   "outputs": [
    {
     "data": {
      "text/plain": [
       "{88, 101, 103, 105, 110, 201, 202, 205, 208, 22222}"
      ]
     },
     "execution_count": 179,
     "metadata": {},
     "output_type": "execute_result"
    }
   ],
   "source": [
    "S1.symmetric_difference(S2)"
   ]
  },
  {
   "cell_type": "code",
   "execution_count": 180,
   "id": "0dd8101f",
   "metadata": {},
   "outputs": [
    {
     "data": {
      "text/plain": [
       "({103, 105, 22222}, {88, 101, 110, 201, 202, 205, 208})"
      ]
     },
     "execution_count": 180,
     "metadata": {},
     "output_type": "execute_result"
    }
   ],
   "source": [
    "S1,S2"
   ]
  },
  {
   "cell_type": "code",
   "execution_count": 181,
   "id": "340777f1",
   "metadata": {},
   "outputs": [],
   "source": [
    "S1.symmetric_difference_update(S2)"
   ]
  },
  {
   "cell_type": "code",
   "execution_count": 182,
   "id": "215dcf32",
   "metadata": {},
   "outputs": [
    {
     "data": {
      "text/plain": [
       "{88, 101, 103, 105, 110, 201, 202, 205, 208, 22222}"
      ]
     },
     "execution_count": 182,
     "metadata": {},
     "output_type": "execute_result"
    }
   ],
   "source": [
    "S1"
   ]
  },
  {
   "cell_type": "code",
   "execution_count": 183,
   "id": "7c261fc5",
   "metadata": {},
   "outputs": [
    {
     "data": {
      "text/plain": [
       "{88, 101, 103, 105, 110, 201, 202, 205, 208, 22222}"
      ]
     },
     "execution_count": 183,
     "metadata": {},
     "output_type": "execute_result"
    }
   ],
   "source": [
    "S1.union(S2)"
   ]
  },
  {
   "cell_type": "code",
   "execution_count": 184,
   "id": "c57c3c7f",
   "metadata": {},
   "outputs": [],
   "source": [
    "S1.update([120])"
   ]
  },
  {
   "cell_type": "code",
   "execution_count": 185,
   "id": "cec5fcf6",
   "metadata": {},
   "outputs": [
    {
     "data": {
      "text/plain": [
       "{88, 101, 103, 105, 110, 120, 201, 202, 205, 208, 22222}"
      ]
     },
     "execution_count": 185,
     "metadata": {},
     "output_type": "execute_result"
    }
   ],
   "source": [
    "S1"
   ]
  },
  {
   "cell_type": "markdown",
   "id": "6816f13b",
   "metadata": {},
   "source": [
    "# DICTIONARY\n",
    "Dictionaries are used to store data values in key:value pairs.A dictionary is a collection which is ordered(items have a defined order, and that order will not change), changeable(we can change, add or remove items after the dictionary has been created) and do not allow duplicates."
   ]
  },
  {
   "cell_type": "code",
   "execution_count": 186,
   "id": "9d475fac",
   "metadata": {},
   "outputs": [],
   "source": [
    "Dict1 = {1:'S1',2:'S2',3:'S3',4:'S4'}            #ACCESS USING FUNCTION"
   ]
  },
  {
   "cell_type": "code",
   "execution_count": 187,
   "id": "c16f903f",
   "metadata": {},
   "outputs": [],
   "source": [
    "  Dict2 = Dict1.copy()"
   ]
  },
  {
   "cell_type": "code",
   "execution_count": 188,
   "id": "91923faf",
   "metadata": {},
   "outputs": [
    {
     "data": {
      "text/plain": [
       "{1: 'S1', 2: 'S2', 3: 'S3', 4: 'S4'}"
      ]
     },
     "execution_count": 188,
     "metadata": {},
     "output_type": "execute_result"
    }
   ],
   "source": [
    "Dict2"
   ]
  },
  {
   "cell_type": "code",
   "execution_count": 189,
   "id": "997659b6",
   "metadata": {},
   "outputs": [
    {
     "data": {
      "text/plain": [
       "{1: None, 2: None, 3: None, 4: None}"
      ]
     },
     "execution_count": 189,
     "metadata": {},
     "output_type": "execute_result"
    }
   ],
   "source": [
    "Dict1.fromkeys(Dict2)"
   ]
  },
  {
   "cell_type": "code",
   "execution_count": 190,
   "id": "628dba3d",
   "metadata": {},
   "outputs": [],
   "source": [
    "Dict3 = {1:'D1',2:'D2',3:'D3',4:'D4'}"
   ]
  },
  {
   "cell_type": "code",
   "execution_count": 191,
   "id": "5344499f",
   "metadata": {},
   "outputs": [
    {
     "data": {
      "text/plain": [
       "{1: None, 2: None, 3: None, 4: None}"
      ]
     },
     "execution_count": 191,
     "metadata": {},
     "output_type": "execute_result"
    }
   ],
   "source": [
    "Dict3.fromkeys(Dict1)"
   ]
  },
  {
   "cell_type": "code",
   "execution_count": 192,
   "id": "cbf0fcee",
   "metadata": {},
   "outputs": [
    {
     "data": {
      "text/plain": [
       "'S3'"
      ]
     },
     "execution_count": 192,
     "metadata": {},
     "output_type": "execute_result"
    }
   ],
   "source": [
    "Dict1.get(3)"
   ]
  },
  {
   "cell_type": "code",
   "execution_count": 193,
   "id": "465d5a27",
   "metadata": {},
   "outputs": [
    {
     "data": {
      "text/plain": [
       "dict_items([(1, 'S1'), (2, 'S2'), (3, 'S3'), (4, 'S4')])"
      ]
     },
     "execution_count": 193,
     "metadata": {},
     "output_type": "execute_result"
    }
   ],
   "source": [
    "Dict1.items()"
   ]
  },
  {
   "cell_type": "code",
   "execution_count": 194,
   "id": "8963cdfe",
   "metadata": {},
   "outputs": [
    {
     "data": {
      "text/plain": [
       "dict_keys([1, 2, 3, 4])"
      ]
     },
     "execution_count": 194,
     "metadata": {},
     "output_type": "execute_result"
    }
   ],
   "source": [
    "Dict1.keys()"
   ]
  },
  {
   "cell_type": "code",
   "execution_count": 195,
   "id": "875df94f",
   "metadata": {},
   "outputs": [
    {
     "data": {
      "text/plain": [
       "'S2'"
      ]
     },
     "execution_count": 195,
     "metadata": {},
     "output_type": "execute_result"
    }
   ],
   "source": [
    "Dict1.pop(2)"
   ]
  },
  {
   "cell_type": "code",
   "execution_count": 196,
   "id": "9aeac6be",
   "metadata": {},
   "outputs": [
    {
     "data": {
      "text/plain": [
       "{1: 'S1', 3: 'S3', 4: 'S4'}"
      ]
     },
     "execution_count": 196,
     "metadata": {},
     "output_type": "execute_result"
    }
   ],
   "source": [
    "Dict1"
   ]
  },
  {
   "cell_type": "code",
   "execution_count": 197,
   "id": "ed530562",
   "metadata": {},
   "outputs": [
    {
     "data": {
      "text/plain": [
       "(4, 'S4')"
      ]
     },
     "execution_count": 197,
     "metadata": {},
     "output_type": "execute_result"
    }
   ],
   "source": [
    "Dict1.popitem()"
   ]
  },
  {
   "cell_type": "code",
   "execution_count": 198,
   "id": "a4e86ab3",
   "metadata": {},
   "outputs": [],
   "source": [
    "Dict1.setdefault(4)"
   ]
  },
  {
   "cell_type": "code",
   "execution_count": 199,
   "id": "28dc8808",
   "metadata": {},
   "outputs": [
    {
     "data": {
      "text/plain": [
       "{1: 'S1', 3: 'S3', 4: None}"
      ]
     },
     "execution_count": 199,
     "metadata": {},
     "output_type": "execute_result"
    }
   ],
   "source": [
    "Dict1"
   ]
  },
  {
   "cell_type": "code",
   "execution_count": 200,
   "id": "459c171a",
   "metadata": {},
   "outputs": [],
   "source": [
    "Dict1.update(Dict2)"
   ]
  },
  {
   "cell_type": "code",
   "execution_count": 201,
   "id": "218c8e4b",
   "metadata": {},
   "outputs": [
    {
     "data": {
      "text/plain": [
       "{1: 'S1', 3: 'S3', 4: 'S4', 2: 'S2'}"
      ]
     },
     "execution_count": 201,
     "metadata": {},
     "output_type": "execute_result"
    }
   ],
   "source": [
    "Dict1"
   ]
  },
  {
   "cell_type": "code",
   "execution_count": 202,
   "id": "61f94a23",
   "metadata": {},
   "outputs": [
    {
     "data": {
      "text/plain": [
       "dict_values(['S1', 'S3', 'S4', 'S2'])"
      ]
     },
     "execution_count": 202,
     "metadata": {},
     "output_type": "execute_result"
    }
   ],
   "source": [
    "Dict1.values()"
   ]
  },
  {
   "cell_type": "code",
   "execution_count": 203,
   "id": "b4964e65",
   "metadata": {},
   "outputs": [
    {
     "data": {
      "text/plain": [
       "({1: 'S1', 3: 'S3', 4: 'S4', 2: 'S2'}, {1: 'S1', 2: 'S2', 3: 'S3', 4: 'S4'})"
      ]
     },
     "execution_count": 203,
     "metadata": {},
     "output_type": "execute_result"
    }
   ],
   "source": [
    "Dict1,Dict2"
   ]
  },
  {
   "cell_type": "code",
   "execution_count": 204,
   "id": "74c630e9",
   "metadata": {},
   "outputs": [],
   "source": [
    "Dict1[3]='ss3'"
   ]
  },
  {
   "cell_type": "code",
   "execution_count": 205,
   "id": "9d89af45",
   "metadata": {},
   "outputs": [
    {
     "data": {
      "text/plain": [
       "{1: 'S1', 3: 'ss3', 4: 'S4', 2: 'S2'}"
      ]
     },
     "execution_count": 205,
     "metadata": {},
     "output_type": "execute_result"
    }
   ],
   "source": [
    "Dict1"
   ]
  },
  {
   "cell_type": "code",
   "execution_count": 206,
   "id": "0db40be4",
   "metadata": {},
   "outputs": [],
   "source": [
    "Student_info = {'S1_no':[1,2,3,4,5],'name':['Anish','Aayush','saumya','shrvanya','priya'],'marks':[50,40,80,70,60]}   #UPDATION"
   ]
  },
  {
   "cell_type": "code",
   "execution_count": 207,
   "id": "7e995eda",
   "metadata": {},
   "outputs": [
    {
     "data": {
      "text/plain": [
       "{'S1_no': [1, 2, 3, 4, 5],\n",
       " 'name': ['Anish', 'Aayush', 'saumya', 'shrvanya', 'priya'],\n",
       " 'marks': [50, 40, 80, 70, 60]}"
      ]
     },
     "execution_count": 207,
     "metadata": {},
     "output_type": "execute_result"
    }
   ],
   "source": [
    "Student_info"
   ]
  },
  {
   "cell_type": "code",
   "execution_count": 208,
   "id": "e4af314b",
   "metadata": {},
   "outputs": [],
   "source": [
    "Student_info['name']= 'student_name'           "
   ]
  },
  {
   "cell_type": "code",
   "execution_count": 209,
   "id": "6735253f",
   "metadata": {},
   "outputs": [],
   "source": [
    "Student_info['name']= 'Anish','Aayush','saumya','shrvanya','shubhen'"
   ]
  },
  {
   "cell_type": "code",
   "execution_count": 210,
   "id": "dca0bcf2",
   "metadata": {},
   "outputs": [
    {
     "data": {
      "text/plain": [
       "{'S1_no': [1, 2, 3, 4, 5],\n",
       " 'name': ('Anish', 'Aayush', 'saumya', 'shrvanya', 'shubhen'),\n",
       " 'marks': [50, 40, 80, 70, 60]}"
      ]
     },
     "execution_count": 210,
     "metadata": {},
     "output_type": "execute_result"
    }
   ],
   "source": [
    "Student_info"
   ]
  },
  {
   "cell_type": "code",
   "execution_count": 211,
   "id": "d979e098",
   "metadata": {},
   "outputs": [
    {
     "data": {
      "text/plain": [
       "dict_keys(['S1_no', 'name', 'marks'])"
      ]
     },
     "execution_count": 211,
     "metadata": {},
     "output_type": "execute_result"
    }
   ],
   "source": [
    "Student_info.keys()"
   ]
  },
  {
   "cell_type": "code",
   "execution_count": 212,
   "id": "6d764808",
   "metadata": {},
   "outputs": [
    {
     "data": {
      "text/plain": [
       "dict_values([[1, 2, 3, 4, 5], ('Anish', 'Aayush', 'saumya', 'shrvanya', 'shubhen'), [50, 40, 80, 70, 60]])"
      ]
     },
     "execution_count": 212,
     "metadata": {},
     "output_type": "execute_result"
    }
   ],
   "source": [
    "Student_info.values()"
   ]
  },
  {
   "cell_type": "code",
   "execution_count": 213,
   "id": "39619e7c",
   "metadata": {},
   "outputs": [],
   "source": [
    "#task - create a dictionary with marks,name,age,subjects with 10 names and 6 subjects"
   ]
  },
  {
   "cell_type": "code",
   "execution_count": 1,
   "id": "994ed187",
   "metadata": {},
   "outputs": [],
   "source": [
    "student_info =[\n",
    "               {\n",
    "               'name':['Anish'],\n",
    "                'age':22,\n",
    "                 'subjects':['s1','s2','s3','s4','s5','s6'],\n",
    "                 'marks':['34,5,43,56,56,43,74']\n",
    "               },\n",
    "               {\n",
    "                   'name':['aayush'],\n",
    "                 'age':23,\n",
    "                 'sujects':['s1','s2','s3','s4','s5','s6'],\n",
    "                  'marks':['34,5,43,56,56,43,74']\n",
    "               },\n",
    "               { \n",
    "                   'name':['saumya'],\n",
    "                 'age':24,\n",
    "                 'sujects':['s1','s2','s3','s4','s5','s6'],\n",
    "                  'marks':['34,5,43,56,56,43,74']\n",
    "               },\n",
    "               {  \n",
    "                   'name':['shrvanya'],\n",
    "                    'age':25,\n",
    "                 'sujects':['s1','s2','s3','s4','s5','s6'],\n",
    "                  'marks':['34,5,43,56,56,43,74']\n",
    "               },\n",
    "               {\n",
    "                   'name':['priya'],\n",
    "                      'age':26,\n",
    "                  'sujects':['s1','s2','s3','s4','s5','s6'],  \n",
    "                  'marks':['34,5,43,56,56,43,74']\n",
    "               },\n",
    "               { \n",
    "                   'name':['shubhen'], \n",
    "                    'age':27,\n",
    "                  'sujects':['s1','s2','s3','s4','s5','s6'], \n",
    "                  'marks':['34,5,43,56,56,43,74']\n",
    "               },\n",
    "               {\n",
    "                   'name':['shubhank'], \n",
    "                    'age':28,\n",
    "                   'sujects':['s1','s2','s3','s4','s5','s6'],  \n",
    "                     'marks':['34,5,43,56,56,43,74'] \n",
    "               },\n",
    "               {  \n",
    "                   'name':['kunal'],\n",
    "                   'age':29,\n",
    "                    'sujects':['s1','s2','s3','s4','s5','s6'],\n",
    "                   'marks':['34,5,43,56,56,43,74']\n",
    "               },\n",
    "               {\n",
    "                   'name':['kanishka'],\n",
    "                   'age':30, \n",
    "                   'sujects':['s1','s2','s3','s4','s5','s6'],\n",
    "                   'marks':['34,5,43,56,56,43,74'] \n",
    "               },\n",
    "               { \n",
    "                   'name':['mihika'],\n",
    "                   'age':31,\n",
    "                    'sujects':['s1','s2','s3','s4','s5','s6'],\n",
    "                    'marks':['34,5,43,56,56,43,74'] \n",
    "               }\n",
    "               ]\n",
    "               \n",
    "               \n",
    "            "
   ]
  },
  {
   "cell_type": "code",
   "execution_count": 2,
   "id": "9574bfea",
   "metadata": {},
   "outputs": [
    {
     "name": "stdout",
     "output_type": "stream",
     "text": [
      "name: {'name': ['Anish'], 'age': 22, 'subjects': ['s1', 's2', 's3', 's4', 's5', 's6'], 'marks': ['34,5,43,56,56,43,74']} ['name']\n",
      "age: {'name': ['Anish'], 'age': 22, 'subjects': ['s1', 's2', 's3', 's4', 's5', 's6'], 'marks': ['34,5,43,56,56,43,74']} ['age']\n",
      "subjects: {'name': ['Anish'], 'age': 22, 'subjects': ['s1', 's2', 's3', 's4', 's5', 's6'], 'marks': ['34,5,43,56,56,43,74']} ['subjects']\n",
      "marks: {'name': ['Anish'], 'age': 22, 'subjects': ['s1', 's2', 's3', 's4', 's5', 's6'], 'marks': ['34,5,43,56,56,43,74']} ['marks']\n"
     ]
    }
   ],
   "source": [
    "print('name:',student_info[0],['name'])\n",
    "print('age:',student_info[0],['age'])\n",
    "print('subjects:',student_info[0],['subjects'])\n",
    "print('marks:',student_info[0],['marks'])\n"
   ]
  },
  {
   "cell_type": "markdown",
   "id": "0e79d01d",
   "metadata": {},
   "source": [
    "# conditional statements:\n",
    "   if,\n",
    "   if else,\n",
    "   if..elif..else,\n",
    "   ternary operator (value if true if condition else value is false)"
   ]
  },
  {
   "cell_type": "code",
   "execution_count": 235,
   "id": "970cd203",
   "metadata": {},
   "outputs": [],
   "source": [
    "#python support the usual logical condition :\n",
    "#a==b\n",
    "#a<=b\n",
    "#a>=b\n",
    "#a!=b\n",
    "# if=An \"if statement\" is written by using the if keyword.\n",
    "#elif=\"The elif keyword is Python's way of saying \"if the previous conditions were not true, then try this condition\".\n",
    "#else=\"The else keyword catches anything which isn't caught by the preceding conditions.\""
   ]
  },
  {
   "cell_type": "code",
   "execution_count": 236,
   "id": "f5c79572",
   "metadata": {},
   "outputs": [],
   "source": [
    "A = 10                                  #if it is false it is not gonna give output\n",
    "B = 20"
   ]
  },
  {
   "cell_type": "code",
   "execution_count": 237,
   "id": "eb5408bc",
   "metadata": {},
   "outputs": [
    {
     "name": "stdout",
     "output_type": "stream",
     "text": [
      "A is smaller than B\n"
     ]
    }
   ],
   "source": [
    "if A<B : {\n",
    "    print('A is smaller than B')\n",
    "}\n"
   ]
  },
  {
   "cell_type": "code",
   "execution_count": 238,
   "id": "233c38d4",
   "metadata": {},
   "outputs": [
    {
     "name": "stdout",
     "output_type": "stream",
     "text": [
      "A is smaller than B\n"
     ]
    }
   ],
   "source": [
    "if A>B: {\n",
    "    print('A is greater than B')\n",
    "}\n",
    "else : \n",
    "    print('A is smaller than B')"
   ]
  },
  {
   "cell_type": "code",
   "execution_count": 239,
   "id": "c3d953b6",
   "metadata": {},
   "outputs": [
    {
     "name": "stdout",
     "output_type": "stream",
     "text": [
      "A is not equals to B\n"
     ]
    }
   ],
   "source": [
    "if A==B:\n",
    "    print('A is equals to B')\n",
    "else :\n",
    "    print('A is not equals to B')"
   ]
  },
  {
   "cell_type": "code",
   "execution_count": 240,
   "id": "8c362bc4",
   "metadata": {},
   "outputs": [
    {
     "name": "stdout",
     "output_type": "stream",
     "text": [
      "A is not equals to B\n"
     ]
    }
   ],
   "source": [
    "if A!=B:\n",
    "    print('A is not equals to B')"
   ]
  },
  {
   "cell_type": "code",
   "execution_count": 241,
   "id": "75265587",
   "metadata": {},
   "outputs": [
    {
     "name": "stdout",
     "output_type": "stream",
     "text": [
      "A is smaller than or equals to B\n"
     ]
    }
   ],
   "source": [
    "if A <= B:\n",
    "    print('A is smaller than or equals to B')"
   ]
  },
  {
   "cell_type": "code",
   "execution_count": 242,
   "id": "950a35be",
   "metadata": {},
   "outputs": [
    {
     "name": "stdout",
     "output_type": "stream",
     "text": [
      "A is smaller than or equals to B\n"
     ]
    }
   ],
   "source": [
    "if A >= B:\n",
    "    print('A is greater than or equals to B')\n",
    "else:\n",
    "    print('A is smaller than or equals to B')"
   ]
  },
  {
   "cell_type": "markdown",
   "id": "7de6b5e0",
   "metadata": {},
   "source": [
    " if using the logical operators(and,or,not)\n",
    " "
   ]
  },
  {
   "cell_type": "code",
   "execution_count": 245,
   "id": "860cb672",
   "metadata": {},
   "outputs": [],
   "source": [
    "#and = The and keyword is a logical operator, and is used to combine conditional statements.\n",
    "#or = The or keyword is a logical operator, and is used to combine conditional statements.\n",
    "#not = The not keyword is a logical operator, and is used to reverse the result of the conditional statement."
   ]
  },
  {
   "cell_type": "code",
   "execution_count": 246,
   "id": "ba084962",
   "metadata": {},
   "outputs": [
    {
     "data": {
      "text/plain": [
       "True"
      ]
     },
     "execution_count": 246,
     "metadata": {},
     "output_type": "execute_result"
    }
   ],
   "source": [
    "A == 10 and B == 20"
   ]
  },
  {
   "cell_type": "code",
   "execution_count": 247,
   "id": "8e3cbc3b",
   "metadata": {},
   "outputs": [
    {
     "name": "stdout",
     "output_type": "stream",
     "text": [
      "both statements are true\n"
     ]
    }
   ],
   "source": [
    "if A > 8 and B > 10:\n",
    "    print('both statements are true')"
   ]
  },
  {
   "cell_type": "code",
   "execution_count": 248,
   "id": "37c61313",
   "metadata": {},
   "outputs": [
    {
     "name": "stdout",
     "output_type": "stream",
     "text": [
      "one statement is false\n"
     ]
    }
   ],
   "source": [
    "if A > 8 and B==10:\n",
    "    print('both statements are true')\n",
    "else:\n",
    "    print('one statement is false')"
   ]
  },
  {
   "cell_type": "code",
   "execution_count": 249,
   "id": "19eb7447",
   "metadata": {},
   "outputs": [
    {
     "name": "stdout",
     "output_type": "stream",
     "text": [
      "A is greater than  9  \n"
     ]
    }
   ],
   "source": [
    "if A > 9 or B == 10:\n",
    "    print('A is greater than  9  ')\n",
    "     "
   ]
  },
  {
   "cell_type": "code",
   "execution_count": 250,
   "id": "d68c2ae8",
   "metadata": {},
   "outputs": [
    {
     "name": "stdout",
     "output_type": "stream",
     "text": [
      "B is greater than 10\n"
     ]
    }
   ],
   "source": [
    " if A > 10 or B >10:\n",
    "        print('B is greater than 10')\n",
    "    "
   ]
  },
  {
   "cell_type": "code",
   "execution_count": 251,
   "id": "f3f8817c",
   "metadata": {},
   "outputs": [
    {
     "name": "stdout",
     "output_type": "stream",
     "text": [
      "one statement is true\n"
     ]
    }
   ],
   "source": [
    "if not A > 8 and B == 10:\n",
    "    print('print both statement is true')\n",
    "else:\n",
    "    print('one statement is true')"
   ]
  },
  {
   "cell_type": "code",
   "execution_count": 252,
   "id": "247189f7",
   "metadata": {},
   "outputs": [
    {
     "name": "stdout",
     "output_type": "stream",
     "text": [
      "2nd statement is true\n"
     ]
    }
   ],
   "source": [
    "if not A > 8:\n",
    "    print('1st statement is true')\n",
    "elif B!=10:\n",
    "    print('2nd statement is true')\n",
    "else :\n",
    "    print('both the statements are false')"
   ]
  },
  {
   "cell_type": "markdown",
   "id": "5e8bdba6",
   "metadata": {},
   "source": [
    "task: check the given user input is even/odd?"
   ]
  },
  {
   "cell_type": "code",
   "execution_count": 253,
   "id": "5ad20a20",
   "metadata": {},
   "outputs": [
    {
     "name": "stdout",
     "output_type": "stream",
     "text": [
      "enter a number5\n",
      "the number is odd\n"
     ]
    }
   ],
   "source": [
    "a =  int(input('enter a number'))\n",
    "if a%2==0:\n",
    "    print('the number is even')\n",
    "else: \n",
    "    print('the number is odd')"
   ]
  },
  {
   "cell_type": "markdown",
   "id": "d1b3086c",
   "metadata": {},
   "source": [
    "task : check the user age is eligible for voting or not?\n",
    "    "
   ]
  },
  {
   "cell_type": "code",
   "execution_count": 254,
   "id": "f2ae4231",
   "metadata": {},
   "outputs": [
    {
     "name": "stdout",
     "output_type": "stream",
     "text": [
      "enter a age23\n",
      "eligible for voting\n"
     ]
    }
   ],
   "source": [
    "age = int(input('enter a age'))\n",
    "if age >= 18:\n",
    "    print('eligible for voting')\n",
    "else :\n",
    "    print('not eligible')"
   ]
  },
  {
   "cell_type": "markdown",
   "id": "088b3fd8",
   "metadata": {},
   "source": [
    "task : give the fair price of given age of user eg:\n",
    "        if age is 5 price will be 10,\n",
    "        if age is 6-15 pricee will be 15,\n",
    "        greater thn 15 will have 20 price "
   ]
  },
  {
   "cell_type": "code",
   "execution_count": 255,
   "id": "10bb845d",
   "metadata": {},
   "outputs": [
    {
     "name": "stdout",
     "output_type": "stream",
     "text": [
      "age of a person45\n",
      "price will be 20\n"
     ]
    }
   ],
   "source": [
    "age = int(input('age of a person'))\n",
    "if age <=5:\n",
    "    print('price will be 10')\n",
    "elif age>=6 and age<=15:\n",
    "    print('price will be 15')\n",
    "else:\n",
    "    print('price will be 20')\n"
   ]
  },
  {
   "cell_type": "markdown",
   "id": "0b87d6ed",
   "metadata": {},
   "source": [
    "Ternary Operators or Conditional Expressions:\n",
    "price = value_if_true if condition else value_if_false"
   ]
  },
  {
   "cell_type": "code",
   "execution_count": 63,
   "id": "2084656f",
   "metadata": {},
   "outputs": [
    {
     "data": {
      "text/plain": [
       "False"
      ]
     },
     "execution_count": 63,
     "metadata": {},
     "output_type": "execute_result"
    }
   ],
   "source": [
    "A>B"
   ]
  },
  {
   "cell_type": "code",
   "execution_count": 65,
   "id": "56738a19",
   "metadata": {},
   "outputs": [
    {
     "name": "stdout",
     "output_type": "stream",
     "text": [
      "print value is false\n"
     ]
    }
   ],
   "source": [
    "price1 = print('value is true')if A>B else print('print value is false')"
   ]
  },
  {
   "cell_type": "code",
   "execution_count": 66,
   "id": "0613b317",
   "metadata": {},
   "outputs": [],
   "source": [
    "price1 = 10 if A>B else 20"
   ]
  },
  {
   "cell_type": "code",
   "execution_count": 67,
   "id": "791fc559",
   "metadata": {},
   "outputs": [
    {
     "data": {
      "text/plain": [
       "20"
      ]
     },
     "execution_count": 67,
     "metadata": {},
     "output_type": "execute_result"
    }
   ],
   "source": [
    "price1"
   ]
  },
  {
   "cell_type": "markdown",
   "id": "c01a8840",
   "metadata": {},
   "source": [
    "task : create a marksheet with grade of marks\n",
    "      90+------ A grade,\n",
    "      70+-------B grade,\n",
    "      50+-------c grade,\n",
    "      30+-------D grade,\n",
    "      >30-------fail"
   ]
  },
  {
   "cell_type": "code",
   "execution_count": 6,
   "id": "be9a912b",
   "metadata": {},
   "outputs": [
    {
     "name": "stdout",
     "output_type": "stream",
     "text": [
      "enter the student marks:78\n",
      "B grade\n"
     ]
    }
   ],
   "source": [
    "marks =  int(input('enter the student marks:'))\n",
    "if marks >= 90 :\n",
    "    print('A grade')\n",
    "elif marks >=70 and marks<89:\n",
    "    print('B grade')\n",
    "elif marks>=50 and marks<69:\n",
    "    print('C grade')\n",
    "elif marks>=30 and marks<49:\n",
    "    print('D grade')\n",
    "else :\n",
    "    print('fail')"
   ]
  },
  {
   "cell_type": "code",
   "execution_count": 1,
   "id": "d08a9fa9",
   "metadata": {},
   "outputs": [
    {
     "name": "stdout",
     "output_type": "stream",
     "text": [
      "the 80 marks has been in list\n"
     ]
    }
   ],
   "source": [
    "marks = [90,80,85,36,45,80]\n",
    "if 80 in marks:\n",
    "    print('the 80 marks has been in list')"
   ]
  },
  {
   "cell_type": "code",
   "execution_count": 2,
   "id": "7b654f53",
   "metadata": {},
   "outputs": [
    {
     "name": "stdout",
     "output_type": "stream",
     "text": [
      "the value is not in list\n"
     ]
    }
   ],
   "source": [
    "if 90 not in marks:\n",
    "    print('the marks 90 has been in list')\n",
    "else :\n",
    "    print('the value is not in list')"
   ]
  },
  {
   "cell_type": "code",
   "execution_count": 4,
   "id": "e36d08b0",
   "metadata": {},
   "outputs": [
    {
     "name": "stdout",
     "output_type": "stream",
     "text": [
      "enter the age:14\n",
      "you cannot take admission in college\n"
     ]
    }
   ],
   "source": [
    "age = int(input('enter the age:'))\n",
    "if age in range(15,30):\n",
    "    print('you can take admission in college')\n",
    "else:\n",
    "    print('you cannot take admission in college')"
   ]
  },
  {
   "cell_type": "markdown",
   "id": "e4f9b578",
   "metadata": {},
   "source": [
    "# looping statements\n",
    "\n",
    " (for,while)"
   ]
  },
  {
   "cell_type": "code",
   "execution_count": null,
   "id": "caa01569",
   "metadata": {},
   "outputs": [],
   "source": [
    "# for = A for loop is used for iterating over a sequence (that is either a list, a tuple, a dictionary, a set, or a string)."
   ]
  },
  {
   "cell_type": "code",
   "execution_count": 6,
   "id": "954ef0c4",
   "metadata": {},
   "outputs": [],
   "source": [
    "#for var in range():\n",
    "    #print(var)"
   ]
  },
  {
   "cell_type": "code",
   "execution_count": 6,
   "id": "b83a8977",
   "metadata": {},
   "outputs": [
    {
     "name": "stdout",
     "output_type": "stream",
     "text": [
      "1\n",
      "2\n",
      "3\n",
      "4\n",
      "5\n",
      "6\n",
      "7\n",
      "8\n",
      "9\n",
      "10\n"
     ]
    }
   ],
   "source": [
    "for i in range(1,11):\n",
    "    print(i)"
   ]
  },
  {
   "cell_type": "code",
   "execution_count": 7,
   "id": "f1cf5d84",
   "metadata": {},
   "outputs": [
    {
     "name": "stdout",
     "output_type": "stream",
     "text": [
      "1\n",
      "2\n",
      "3\n",
      "4\n"
     ]
    }
   ],
   "source": [
    "for i in range(1,11):       #With the break statement we can stop the loop before it has looped through all the items\n",
    "    if i==5:\n",
    "        break\n",
    "    print(i)"
   ]
  },
  {
   "cell_type": "code",
   "execution_count": 8,
   "id": "d26cdb82",
   "metadata": {},
   "outputs": [
    {
     "name": "stdout",
     "output_type": "stream",
     "text": [
      "1\n",
      "2\n",
      "3\n",
      "4\n",
      "6\n",
      "7\n",
      "8\n",
      "9\n",
      "10\n"
     ]
    }
   ],
   "source": [
    "for i in range(1,11):       #With the continue statement we can stop the current iteration of the loop, and continue with the next\n",
    "    if i==5:\n",
    "        continue\n",
    "    print(i)"
   ]
  },
  {
   "cell_type": "code",
   "execution_count": 9,
   "id": "e6c03ea3",
   "metadata": {},
   "outputs": [
    {
     "name": "stdout",
     "output_type": "stream",
     "text": [
      "1\n",
      "2\n",
      "3\n",
      "4\n",
      "5\n",
      "6\n",
      "7\n",
      "8\n",
      "9\n",
      "10\n"
     ]
    }
   ],
   "source": [
    "for i in range(1,11):       #for loops cannot be empty, but if you for some reason have a for loop with no content, put in the pass statement to avoid getting an error.\n",
    "    if i==5:\n",
    "        pass\n",
    "    print(i)"
   ]
  },
  {
   "cell_type": "code",
   "execution_count": 10,
   "id": "484d86c1",
   "metadata": {},
   "outputs": [
    {
     "name": "stdout",
     "output_type": "stream",
     "text": [
      "10\n"
     ]
    }
   ],
   "source": [
    "sum1 = 0\n",
    "for k in range(5):\n",
    "    sum1 += k\n",
    "print(sum1)"
   ]
  },
  {
   "cell_type": "code",
   "execution_count": 11,
   "id": "856ac574",
   "metadata": {},
   "outputs": [
    {
     "name": "stdout",
     "output_type": "stream",
     "text": [
      "0\n",
      "1\n",
      "3\n",
      "6\n",
      "10\n"
     ]
    }
   ],
   "source": [
    "sum1 = [0,1,2,3,4]\n",
    "sum2 = 0\n",
    "for k in sum1:\n",
    "    sum2 +=k\n",
    "    print(sum2)"
   ]
  },
  {
   "cell_type": "code",
   "execution_count": 13,
   "id": "bd1650ec",
   "metadata": {},
   "outputs": [
    {
     "name": "stdout",
     "output_type": "stream",
     "text": [
      "0\n"
     ]
    }
   ],
   "source": [
    "sum1 = 0\n",
    "for k in range(0,5):\n",
    "    sum2 -= k\n",
    "print(sum1)"
   ]
  },
  {
   "cell_type": "code",
   "execution_count": 14,
   "id": "f9e18ac7",
   "metadata": {},
   "outputs": [
    {
     "name": "stdout",
     "output_type": "stream",
     "text": [
      "0\n"
     ]
    }
   ],
   "source": [
    "sum1  = 1\n",
    "for k in range (0,5):\n",
    "    sum1 *= k\n",
    "print(sum1)"
   ]
  },
  {
   "cell_type": "code",
   "execution_count": 15,
   "id": "f15fb017",
   "metadata": {},
   "outputs": [
    {
     "name": "stdout",
     "output_type": "stream",
     "text": [
      "24\n"
     ]
    }
   ],
   "source": [
    "sum1  = 1\n",
    "for k in range (1,5):\n",
    "    sum1 *= k\n",
    "print(sum1)"
   ]
  },
  {
   "cell_type": "code",
   "execution_count": 16,
   "id": "88f78d90",
   "metadata": {},
   "outputs": [
    {
     "data": {
      "text/plain": [
       "24"
      ]
     },
     "execution_count": 16,
     "metadata": {},
     "output_type": "execute_result"
    }
   ],
   "source": [
    "1*2*3*4"
   ]
  },
  {
   "cell_type": "code",
   "execution_count": 17,
   "id": "7697700a",
   "metadata": {},
   "outputs": [
    {
     "name": "stdout",
     "output_type": "stream",
     "text": [
      "2\n",
      "4\n",
      "6\n",
      "8\n",
      "10\n"
     ]
    }
   ],
   "source": [
    "sum1 = 0\n",
    "for k in range (1,11,2):               #(start,end,step)\n",
    "    sum1 += 2\n",
    "    print(sum1)"
   ]
  },
  {
   "cell_type": "code",
   "execution_count": 18,
   "id": "0ce901b5",
   "metadata": {},
   "outputs": [
    {
     "name": "stdout",
     "output_type": "stream",
     "text": [
      "4\n",
      "8\n",
      "12\n",
      "16\n",
      "20\n",
      "24\n",
      "28\n",
      "32\n",
      "36\n",
      "40\n",
      "44\n"
     ]
    }
   ],
   "source": [
    "sum1 = 0\n",
    "for k in range(11):\n",
    "    sum1+=4\n",
    "    print(sum1)\n"
   ]
  },
  {
   "cell_type": "markdown",
   "id": "a58c52ac",
   "metadata": {},
   "source": [
    "task = creating table 2 to 10 as list"
   ]
  },
  {
   "cell_type": "code",
   "execution_count": 16,
   "id": "e540ff6f",
   "metadata": {},
   "outputs": [
    {
     "name": "stdout",
     "output_type": "stream",
     "text": [
      "enter which table do you need:5\n",
      "5\n",
      "10\n",
      "15\n",
      "20\n",
      "25\n",
      "30\n",
      "35\n",
      "40\n",
      "45\n",
      "50\n"
     ]
    }
   ],
   "source": [
    "a = [1,2,3,4,5,6,7,8,9,10]\n",
    "b = int(input(\"enter which table do you need:\"))\n",
    "c = []\n",
    "for i in range(0,len(a)):\n",
    "    j = b*a[i]\n",
    "    c.append(j)\n",
    "    print(b*a[i])"
   ]
  },
  {
   "cell_type": "markdown",
   "id": "bf44c353",
   "metadata": {},
   "source": [
    "nested loop"
   ]
  },
  {
   "cell_type": "code",
   "execution_count": null,
   "id": "7861a5cd",
   "metadata": {},
   "outputs": [],
   "source": [
    "#A nested loop is a loop inside a loop.\n",
    "#The \"inner loop\" will be executed one time for each iteration of the \"outer loop\""
   ]
  },
  {
   "cell_type": "code",
   "execution_count": 10,
   "id": "190bda8a",
   "metadata": {},
   "outputs": [
    {
     "name": "stdout",
     "output_type": "stream",
     "text": [
      "2\n",
      "0\n",
      "0\n",
      "2\n",
      "0\n",
      "0\n",
      "2\n",
      "0\n",
      "0\n",
      "2\n",
      "0\n",
      "0\n",
      "2\n",
      "0\n",
      "0\n"
     ]
    }
   ],
   "source": [
    "i = 5\n",
    "j = 2\n",
    "for k in range (i):\n",
    "    print('2')\n",
    "    for l in range (j):\n",
    "        print('0')"
   ]
  },
  {
   "cell_type": "code",
   "execution_count": 11,
   "id": "015dd059",
   "metadata": {
    "scrolled": true
   },
   "outputs": [
    {
     "name": "stdout",
     "output_type": "stream",
     "text": [
      "s1 is present in i\n",
      "1\n",
      "2\n",
      "6\n",
      "7\n",
      "8\n",
      "s1 is present in i\n",
      "1\n",
      "2\n",
      "6\n",
      "7\n",
      "8\n",
      "s1 is present in i\n",
      "1\n",
      "2\n",
      "6\n",
      "7\n",
      "8\n",
      "s1 is present in i\n",
      "1\n",
      "2\n",
      "6\n",
      "7\n",
      "8\n",
      "s1 is present in i\n",
      "1\n",
      "2\n",
      "6\n",
      "7\n",
      "8\n"
     ]
    }
   ],
   "source": [
    "k = [0,1,5,6,7]\n",
    "i = ['s1','s2','s3','s4']\n",
    "for j in k:\n",
    "    if 's1' in i:\n",
    "        print('s1 is present in i')\n",
    "        for l in k:\n",
    "            l+=1\n",
    "           # for m in i:\n",
    "            #    pass\n",
    "               # print(m)\n",
    "            print(l)"
   ]
  },
  {
   "cell_type": "code",
   "execution_count": 12,
   "id": "491af788",
   "metadata": {},
   "outputs": [
    {
     "name": "stdout",
     "output_type": "stream",
     "text": [
      "s1 is present in i\n",
      "s1\n",
      "s2\n",
      "s3\n",
      "s4\n",
      "s1\n",
      "s2\n",
      "s3\n",
      "s4\n",
      "s1\n",
      "s2\n",
      "s3\n",
      "s4\n",
      "s1\n",
      "s2\n",
      "s3\n",
      "s4\n",
      "s1\n",
      "s2\n",
      "s3\n",
      "s4\n",
      "s1 is present in i\n",
      "s1\n",
      "s2\n",
      "s3\n",
      "s4\n",
      "s1\n",
      "s2\n",
      "s3\n",
      "s4\n",
      "s1\n",
      "s2\n",
      "s3\n",
      "s4\n",
      "s1\n",
      "s2\n",
      "s3\n",
      "s4\n",
      "s1\n",
      "s2\n",
      "s3\n",
      "s4\n",
      "s1 is present in i\n",
      "s1\n",
      "s2\n",
      "s3\n",
      "s4\n",
      "s1\n",
      "s2\n",
      "s3\n",
      "s4\n",
      "s1\n",
      "s2\n",
      "s3\n",
      "s4\n",
      "s1\n",
      "s2\n",
      "s3\n",
      "s4\n",
      "s1\n",
      "s2\n",
      "s3\n",
      "s4\n",
      "s1 is present in i\n",
      "s1\n",
      "s2\n",
      "s3\n",
      "s4\n",
      "s1\n",
      "s2\n",
      "s3\n",
      "s4\n",
      "s1\n",
      "s2\n",
      "s3\n",
      "s4\n",
      "s1\n",
      "s2\n",
      "s3\n",
      "s4\n",
      "s1\n",
      "s2\n",
      "s3\n",
      "s4\n",
      "s1 is present in i\n",
      "s1\n",
      "s2\n",
      "s3\n",
      "s4\n",
      "s1\n",
      "s2\n",
      "s3\n",
      "s4\n",
      "s1\n",
      "s2\n",
      "s3\n",
      "s4\n",
      "s1\n",
      "s2\n",
      "s3\n",
      "s4\n",
      "s1\n",
      "s2\n",
      "s3\n",
      "s4\n"
     ]
    }
   ],
   "source": [
    "k = [0,1,5,6,7]\n",
    "i = ['s1','s2','s3','s4']\n",
    "for j in k:\n",
    "    if 's1' in i:\n",
    "        print('s1 is present in i')\n",
    "        for l in k:       #here print is not there so this can't print\n",
    "            l+=1\n",
    "            for m in i:\n",
    "                print(m)"
   ]
  },
  {
   "cell_type": "code",
   "execution_count": 14,
   "id": "a32f75d5",
   "metadata": {},
   "outputs": [
    {
     "name": "stdout",
     "output_type": "stream",
     "text": [
      "s1 is present in i\n",
      "s1 is present in i\n",
      "s1 is present in i\n",
      "s1 is present in i\n",
      "s1 is present in i\n"
     ]
    }
   ],
   "source": [
    "k = [0,1,5,6,7]\n",
    "i = ['s1','s2','s3','s4']\n",
    "for j in k:\n",
    "    if 's1' in i:\n",
    "        print('s1 is present in i')\n",
    "        for l in k:       \n",
    "            l+=1\n",
    "            #print(l)\n",
    "            for m in i:\n",
    "                pass\n",
    "            \n",
    "                #print(m)"
   ]
  },
  {
   "cell_type": "code",
   "execution_count": 1,
   "id": "b1f35fed",
   "metadata": {},
   "outputs": [
    {
     "name": "stdout",
     "output_type": "stream",
     "text": [
      "100\n",
      "400\n",
      "900\n",
      "1600\n",
      "2500\n",
      "3600\n",
      "4900\n"
     ]
    }
   ],
   "source": [
    "#printing the square of the number(10^2,20^2,30^2......)\n",
    "num =[10,20,30,40,50,60,70]          \n",
    "for i in num:\n",
    "    print(i*i)"
   ]
  },
  {
   "cell_type": "code",
   "execution_count": 2,
   "id": "5fa72033",
   "metadata": {},
   "outputs": [
    {
     "name": "stdout",
     "output_type": "stream",
     "text": [
      "1000\n",
      "8000\n",
      "27000\n",
      "64000\n",
      "125000\n",
      "216000\n",
      "343000\n"
     ]
    }
   ],
   "source": [
    "#printing the cube of the number(10^3,20^3,30^3......)\n",
    "num =[10,20,30,40,50,60,70]          \n",
    "for i in num:\n",
    "    print(i*i*i)"
   ]
  },
  {
   "cell_type": "code",
   "execution_count": 4,
   "id": "d742aca5",
   "metadata": {},
   "outputs": [
    {
     "name": "stdout",
     "output_type": "stream",
     "text": [
      "20\n",
      "40\n",
      "60\n",
      "80\n",
      "100\n",
      "120\n",
      "140\n"
     ]
    }
   ],
   "source": [
    "for i in num:\n",
    "    i*=2  #i=i*2\n",
    "    print(i)"
   ]
  },
  {
   "cell_type": "code",
   "execution_count": 6,
   "id": "586cd607",
   "metadata": {},
   "outputs": [
    {
     "name": "stdout",
     "output_type": "stream",
     "text": [
      "tomatoes####\n",
      "brinjal####\n",
      "spinach####\n",
      "cucumber####\n",
      "cabbage####\n"
     ]
    }
   ],
   "source": [
    "veggies = ['tomatoes','brinjal','spinach','cucumber','cabbage']\n",
    "for i in veggies:\n",
    "    i = i+'####'\n",
    "    print(i)"
   ]
  },
  {
   "cell_type": "code",
   "execution_count": 26,
   "id": "44164de9",
   "metadata": {},
   "outputs": [],
   "source": [
    "result = {'sam':{'sub':['maths','science','cs','ds'],'marks':[70,80,50,68]},\n",
    "         'fam':{'sub ':['maths','science','cs','ds'],'marks':[70,81,50,66]},\n",
    "          'ram':{'sub':['maths','science','cs','ds'],'marks':[70,80,52,69]}}"
   ]
  },
  {
   "cell_type": "code",
   "execution_count": 27,
   "id": "736ef2ab",
   "metadata": {},
   "outputs": [
    {
     "name": "stdout",
     "output_type": "stream",
     "text": [
      "sam\n",
      "fam\n",
      "ram\n"
     ]
    }
   ],
   "source": [
    "for i in result.keys():\n",
    "    print(i)"
   ]
  },
  {
   "cell_type": "code",
   "execution_count": 28,
   "id": "444a6894",
   "metadata": {},
   "outputs": [
    {
     "ename": "TypeError",
     "evalue": "string indices must be integers, not 'str'",
     "output_type": "error",
     "traceback": [
      "\u001b[1;31m---------------------------------------------------------------------------\u001b[0m",
      "\u001b[1;31mTypeError\u001b[0m                                 Traceback (most recent call last)",
      "Cell \u001b[1;32mIn[28], line 3\u001b[0m\n\u001b[0;32m      1\u001b[0m \u001b[38;5;28;01mimport\u001b[39;00m \u001b[38;5;21;01mstatistics\u001b[39;00m\n\u001b[0;32m      2\u001b[0m \u001b[38;5;28;01mfor\u001b[39;00m i \u001b[38;5;129;01min\u001b[39;00m result:\n\u001b[1;32m----> 3\u001b[0m     avg\u001b[38;5;241m=\u001b[39mstatistics\u001b[38;5;241m.\u001b[39mmean(i[\u001b[38;5;124m'\u001b[39m\u001b[38;5;124mmarks\u001b[39m\u001b[38;5;124m'\u001b[39m])\n\u001b[0;32m      4\u001b[0m     \u001b[38;5;28mprint\u001b[39m(avg)\n\u001b[0;32m      5\u001b[0m     \u001b[38;5;28;01mif\u001b[39;00m avg\u001b[38;5;241m>\u001b[39m\u001b[38;5;241m=\u001b[39m\u001b[38;5;241m70\u001b[39m:\n",
      "\u001b[1;31mTypeError\u001b[0m: string indices must be integers, not 'str'"
     ]
    }
   ],
   "source": [
    "import statistics\n",
    "for i in result:\n",
    "    avg=statistics.mean(i['marks'])\n",
    "    print(avg)\n",
    "    if avg>=70:\n",
    "        print('A grade')\n"
   ]
  },
  {
   "cell_type": "code",
   "execution_count": 30,
   "id": "2363e5fa",
   "metadata": {},
   "outputs": [
    {
     "name": "stdout",
     "output_type": "stream",
     "text": [
      "1\n",
      "2\n",
      "3\n",
      "4\n",
      "5\n",
      "6\n",
      "7\n",
      "8\n",
      "9\n",
      "10\n",
      "2\n",
      "4\n",
      "6\n",
      "8\n",
      "10\n",
      "12\n",
      "14\n",
      "16\n",
      "18\n",
      "20\n",
      "3\n",
      "6\n",
      "9\n",
      "12\n",
      "15\n",
      "18\n",
      "21\n",
      "24\n",
      "27\n",
      "30\n",
      "4\n",
      "8\n",
      "12\n",
      "16\n",
      "20\n",
      "24\n",
      "28\n",
      "32\n",
      "36\n",
      "40\n",
      "5\n",
      "10\n",
      "15\n",
      "20\n",
      "25\n",
      "30\n",
      "35\n",
      "40\n",
      "45\n",
      "50\n",
      "6\n",
      "12\n",
      "18\n",
      "24\n",
      "30\n",
      "36\n",
      "42\n",
      "48\n",
      "54\n",
      "60\n",
      "7\n",
      "14\n",
      "21\n",
      "28\n",
      "35\n",
      "42\n",
      "49\n",
      "56\n",
      "63\n",
      "70\n",
      "8\n",
      "16\n",
      "24\n",
      "32\n",
      "40\n",
      "48\n",
      "56\n",
      "64\n",
      "72\n",
      "80\n",
      "9\n",
      "18\n",
      "27\n",
      "36\n",
      "45\n",
      "54\n",
      "63\n",
      "72\n",
      "81\n",
      "90\n",
      "10\n",
      "20\n",
      "30\n",
      "40\n",
      "50\n",
      "60\n",
      "70\n",
      "80\n",
      "90\n",
      "100\n"
     ]
    }
   ],
   "source": [
    "#table print(1-10)\n",
    "for i in range(1,11): #print(1--10)\n",
    "    for j in range(1,11):\n",
    "        mul = i*j\n",
    "        print(mul)"
   ]
  },
  {
   "cell_type": "code",
   "execution_count": 34,
   "id": "e46a6dbd",
   "metadata": {},
   "outputs": [
    {
     "name": "stdout",
     "output_type": "stream",
     "text": [
      "enter the value to print the table:4\n",
      "4\n",
      "8\n",
      "12\n",
      "16\n",
      "20\n",
      "24\n",
      "28\n",
      "32\n",
      "36\n",
      "40\n"
     ]
    }
   ],
   "source": [
    "n = [int(input('enter the value to print the table:'))]   #for iterting list we have to take [] bracket in the pront of the datatype\n",
    "for i in n: #print(1--10)\n",
    "    for j in range(1,11):\n",
    "        mul = i*j\n",
    "        print(mul)"
   ]
  },
  {
   "cell_type": "markdown",
   "id": "00a8027b",
   "metadata": {},
   "source": [
    "# pattern problem"
   ]
  },
  {
   "cell_type": "code",
   "execution_count": null,
   "id": "f0e0a420",
   "metadata": {},
   "outputs": [],
   "source": [
    "# This is the example of print simple pyramid pattern.\n",
    "n = int(input(\"Enter the number of rows\"))\n",
    "# outer loop to handle number of rows.\n",
    "for i in range(0, n):\n",
    "# inner loop to handle number of columns.\n",
    "# values is changing according to outer loop.\n",
    "for j in range(0, i + 1):\n",
    "# printing stars."
   ]
  },
  {
   "cell_type": "markdown",
   "id": "f062ffec",
   "metadata": {},
   "source": [
    "task = #print pattern using for loop in python\n",
    "1\n",
    "1,2\n",
    "1,2,3\n",
    "1,2,3,4\n",
    "1,2,3,4,5\n",
    "\n",
    "\n",
    "#print pattern using for loop in python\n",
    "1\n",
    "1,2\n",
    "1,2,3\n",
    "1,2,3,4\n",
    "1,2,3\n",
    "1,2\n",
    "1"
   ]
  },
  {
   "cell_type": "code",
   "execution_count": 36,
   "id": "198a0ffe",
   "metadata": {},
   "outputs": [
    {
     "name": "stdout",
     "output_type": "stream",
     "text": [
      "1,\n",
      "1,2,\n",
      "1,2,3,\n",
      "1,2,3,4,\n",
      "1,2,3,4,5,\n",
      "1,2,3,4,5,6,\n",
      "1,2,3,4,5,6,7,\n",
      "1,2,3,4,5,6,7,8,\n",
      "1,2,3,4,5,6,7,8,9,\n",
      "1,2,3,4,5,6,7,8,9,10,\n"
     ]
    }
   ],
   "source": [
    "#n = int(input('enter the numberof rows'))\n",
    "n = 10\n",
    "for i in range(1,n+1):\n",
    "    for m in range(1,i+1):\n",
    "        print(m,end=\",\")\n",
    "    print()"
   ]
  },
  {
   "cell_type": "code",
   "execution_count": 37,
   "id": "30eb6f1b",
   "metadata": {},
   "outputs": [
    {
     "name": "stdout",
     "output_type": "stream",
     "text": [
      "1,2,3,4,5,6,7,8,9,10,\n",
      "1,2,3,4,5,6,7,8,9,10,\n",
      "1,2,3,4,5,6,7,8,9,10,\n",
      "1,2,3,4,5,6,7,8,9,10,\n",
      "1,2,3,4,5,6,7,8,9,10,\n",
      "1,2,3,4,5,6,7,8,9,10,\n",
      "1,2,3,4,5,6,7,8,9,10,\n",
      "1,2,3,4,5,6,7,8,9,10,\n",
      "1,2,3,4,5,6,7,8,9,10,\n",
      "1,2,3,4,5,6,7,8,9,10,\n"
     ]
    }
   ],
   "source": [
    "n = 10\n",
    "for i in range(1,n+1):\n",
    "    for m in range(1,n+1):\n",
    "        print(m,end=\",\")\n",
    "    print()"
   ]
  },
  {
   "cell_type": "code",
   "execution_count": 32,
   "id": "6531591d",
   "metadata": {},
   "outputs": [
    {
     "name": "stdout",
     "output_type": "stream",
     "text": [
      "1 \n",
      "1 2 \n",
      "1 2 3 \n",
      "1 2 3 4 \n",
      "1 2 3 4 5 \n"
     ]
    }
   ],
   "source": [
    "n = 5\n",
    "for i in range(1,n+1):\n",
    "    for j in range(1,i+1):\n",
    "        print(j,end=\" \")\n",
    "    print()"
   ]
  },
  {
   "cell_type": "code",
   "execution_count": 40,
   "id": "3fece3e6",
   "metadata": {},
   "outputs": [
    {
     "name": "stdout",
     "output_type": "stream",
     "text": [
      "1 \n",
      "2 2 \n",
      "3 3 3 \n",
      "4 4 4 4 \n",
      "5 5 5 5 5 \n"
     ]
    }
   ],
   "source": [
    "n = 5\n",
    "for i in range(1,n+1):\n",
    "    for j in range(1,i+1):\n",
    "        print(i,end=\" \")\n",
    "    print()"
   ]
  },
  {
   "cell_type": "code",
   "execution_count": 38,
   "id": "5d5e8585",
   "metadata": {},
   "outputs": [
    {
     "name": "stdout",
     "output_type": "stream",
     "text": [
      "* \n",
      "* * \n",
      "* * * \n",
      "* * * * \n",
      "* * * * * \n"
     ]
    }
   ],
   "source": [
    "n = 5\n",
    "for i in range(1,n+1):\n",
    "    for j in range(1,i+1):\n",
    "        print('*',end=\" \")\n",
    "    print()"
   ]
  },
  {
   "cell_type": "code",
   "execution_count": 39,
   "id": "85055c7d",
   "metadata": {},
   "outputs": [
    {
     "name": "stdout",
     "output_type": "stream",
     "text": [
      "** \n",
      "** ** \n",
      "** ** ** \n",
      "** ** ** ** \n",
      "** ** ** ** ** \n"
     ]
    }
   ],
   "source": [
    "n = 5\n",
    "for i in range(1,n+1):\n",
    "    for j in range(1,i+1):\n",
    "        print('*'*2,end=\" \")\n",
    "    print()"
   ]
  },
  {
   "cell_type": "code",
   "execution_count": 19,
   "id": "2e855a48",
   "metadata": {},
   "outputs": [
    {
     "name": "stdout",
     "output_type": "stream",
     "text": [
      "enter the number of rows5\n",
      "1,\n",
      "1,2,\n",
      "1,2,3,\n",
      "1,2,3,4,\n",
      "1,2,3,4,5,\n",
      "1,2,3,4,\n",
      "1,2,3,\n",
      "1,2,\n",
      "1,\n"
     ]
    }
   ],
   "source": [
    "n = int(input('enter the number of rows'))\n",
    "for i in range(1,n+1):\n",
    "    for j in range(1,i+1):\n",
    "            print(j,end=\",\")           \n",
    "    print()\n",
    "\n",
    "for i in range(n-1,0,-1):\n",
    "    for j in range(1,i+1):\n",
    "            print(j,end=\",\")   \n",
    "    print()"
   ]
  },
  {
   "cell_type": "code",
   "execution_count": 51,
   "id": "f1e4e662",
   "metadata": {},
   "outputs": [],
   "source": [
    "#while loop:With the while loop we can execute a set of statements as long as a condition is true.\n",
    "#intialisation\n",
    "#condition\n",
    "#increment and decrement"
   ]
  },
  {
   "cell_type": "code",
   "execution_count": 34,
   "id": "444e9071",
   "metadata": {},
   "outputs": [
    {
     "name": "stdout",
     "output_type": "stream",
     "text": [
      "1\n",
      "2\n",
      "3\n",
      "4\n",
      "5\n",
      "6\n",
      "7\n",
      "8\n",
      "9\n",
      "10\n"
     ]
    }
   ],
   "source": [
    "i = 1           #initialisation\n",
    "while(i<=10):   #condition\n",
    "    print(i)\n",
    "    i=i+1       #increment"
   ]
  },
  {
   "cell_type": "code",
   "execution_count": 41,
   "id": "03998f22",
   "metadata": {},
   "outputs": [
    {
     "name": "stdout",
     "output_type": "stream",
     "text": [
      "10\n",
      "9\n",
      "8\n",
      "7\n",
      "6\n",
      "5\n",
      "4\n",
      "3\n",
      "2\n",
      "1\n",
      "0\n"
     ]
    }
   ],
   "source": [
    "i = 10\n",
    "while(i>=0):\n",
    "    print(i)\n",
    "    i=i-1"
   ]
  },
  {
   "cell_type": "code",
   "execution_count": 44,
   "id": "26f1f36e",
   "metadata": {},
   "outputs": [
    {
     "name": "stdout",
     "output_type": "stream",
     "text": [
      "enter the number5\n",
      "1\n",
      "2\n",
      "3\n",
      "4\n",
      "5\n",
      "enter the number5\n",
      "5\n",
      "4\n",
      "3\n",
      "2\n",
      "1\n"
     ]
    }
   ],
   "source": [
    "#PRINTING THE FIRST n NATURAL NUMBER\n",
    "n =int(input('enter the number'))\n",
    "i = 1\n",
    "while(i<=n):\n",
    "    print(i)\n",
    "    i = i+1\n",
    "#PRINTING THE NUMBER FROM 5 TO 1\n",
    "n = int(input('enter the number'))\n",
    "i = n\n",
    "while(i>=1):\n",
    "    print(i)\n",
    "    i = i-1"
   ]
  },
  {
   "cell_type": "code",
   "execution_count": 45,
   "id": "4812238a",
   "metadata": {},
   "outputs": [
    {
     "name": "stdout",
     "output_type": "stream",
     "text": [
      "enter the number :3\n",
      "sum= 6\n"
     ]
    }
   ],
   "source": [
    "#SUM OF THE n NATURAL NUMBER\n",
    "n = int(input('enter the number :'))\n",
    "i= 1\n",
    "sum = 0\n",
    "while(i<=n):\n",
    "    sum = sum+i\n",
    "    i = i+1\n",
    "print('sum=',sum)"
   ]
  },
  {
   "cell_type": "code",
   "execution_count": 46,
   "id": "4096cb27",
   "metadata": {},
   "outputs": [
    {
     "name": "stdout",
     "output_type": "stream",
     "text": [
      "enter the number :5\n",
      "sum= 55\n"
     ]
    }
   ],
   "source": [
    "#print 1^2+2^2+3^2+4^2+.......n^2(sqaure)\n",
    "n = int(input('enter the number :'))\n",
    "i= 1\n",
    "sum = 0\n",
    "while(i<=n):\n",
    "    sum = sum+i*i\n",
    "    i = i+1\n",
    "print('sum=',sum)"
   ]
  },
  {
   "cell_type": "code",
   "execution_count": 47,
   "id": "a410b5dc",
   "metadata": {},
   "outputs": [
    {
     "name": "stdout",
     "output_type": "stream",
     "text": [
      "enter the number :5\n",
      "sum= 225\n"
     ]
    }
   ],
   "source": [
    "##print 1^3+2^3+3^3+4^3+.......n^3(cube)\n",
    "n = int(input('enter the number :'))\n",
    "i= 1\n",
    "sum = 0\n",
    "while(i<=n):\n",
    "    sum = sum+i*i*i\n",
    "    i = i+1\n",
    "print('sum=',sum)"
   ]
  },
  {
   "cell_type": "code",
   "execution_count": 50,
   "id": "4f2dc400",
   "metadata": {},
   "outputs": [
    {
     "name": "stdout",
     "output_type": "stream",
     "text": [
      "enter the number15\n",
      "2\n",
      "4\n",
      "6\n",
      "8\n",
      "10\n",
      "12\n",
      "14\n"
     ]
    }
   ],
   "source": [
    "#printing the even numbers\n",
    "n = int(input('enter the number'))\n",
    "i = 2\n",
    "while(i<=n):\n",
    "    print(i)\n",
    "    i = i+2 "
   ]
  },
  {
   "cell_type": "code",
   "execution_count": 48,
   "id": "43217ea2",
   "metadata": {},
   "outputs": [
    {
     "name": "stdout",
     "output_type": "stream",
     "text": [
      "enter the number10\n",
      "1\n",
      "3\n",
      "5\n",
      "7\n",
      "9\n"
     ]
    }
   ],
   "source": [
    "#printing the odd number\n",
    "n = int(input('enter the number'))\n",
    "i = 1\n",
    "while(i<=n):\n",
    "    print(i)\n",
    "    i=i+2"
   ]
  },
  {
   "cell_type": "code",
   "execution_count": 5,
   "id": "49454560",
   "metadata": {},
   "outputs": [
    {
     "name": "stdout",
     "output_type": "stream",
     "text": [
      "enter the number:5\n",
      "sum= 6\n"
     ]
    }
   ],
   "source": [
    "#sum of the even number\n",
    "n= int(input('enter the number:'))\n",
    "i = 2\n",
    "sum = 0\n",
    "while(i<=n):\n",
    "    sum = sum+i\n",
    "    i =i+2\n",
    "print(\"sum=\",sum)"
   ]
  },
  {
   "cell_type": "code",
   "execution_count": 11,
   "id": "478d69a4",
   "metadata": {},
   "outputs": [
    {
     "name": "stdout",
     "output_type": "stream",
     "text": [
      "sum of digits 14\n"
     ]
    }
   ],
   "source": [
    "#sum of the digits\n",
    "i = 248\n",
    "sum = 0\n",
    "while(i>0):\n",
    "    sum = sum+i%10\n",
    "    i = i//10\n",
    "print('sum of digits',sum)"
   ]
  },
  {
   "cell_type": "code",
   "execution_count": 14,
   "id": "7e89d1c1",
   "metadata": {},
   "outputs": [
    {
     "name": "stdout",
     "output_type": "stream",
     "text": [
      "sum of digits 84\n"
     ]
    }
   ],
   "source": [
    "#sum of square of digits\n",
    "i = 248\n",
    "sum = 0\n",
    "while(i>0):\n",
    "    sum = sum+(i%10)*(i%10)\n",
    "    i = i//10\n",
    "print('sum of digits',sum)"
   ]
  },
  {
   "cell_type": "code",
   "execution_count": 15,
   "id": "9ca9c7e4",
   "metadata": {},
   "outputs": [
    {
     "name": "stdout",
     "output_type": "stream",
     "text": [
      "sum of digits 584\n"
     ]
    }
   ],
   "source": [
    "#sum of cube of digits\n",
    "i = 248\n",
    "sum = 0\n",
    "while(i>0):\n",
    "    sum = sum+(i%10)*(i%10)*(i%10)\n",
    "    i = i//10\n",
    "print('sum of digits',sum)"
   ]
  },
  {
   "cell_type": "code",
   "execution_count": 22,
   "id": "3f94cb75",
   "metadata": {},
   "outputs": [
    {
     "ename": "NameError",
     "evalue": "name 'j' is not defined",
     "output_type": "error",
     "traceback": [
      "\u001b[1;31m---------------------------------------------------------------------------\u001b[0m",
      "\u001b[1;31mNameError\u001b[0m                                 Traceback (most recent call last)",
      "Cell \u001b[1;32mIn[22], line 7\u001b[0m\n\u001b[0;32m      5\u001b[0m     \u001b[38;5;28msum\u001b[39m \u001b[38;5;241m=\u001b[39m \u001b[38;5;28msum\u001b[39m\u001b[38;5;241m+\u001b[39m(i\u001b[38;5;241m%\u001b[39m\u001b[38;5;241m10\u001b[39m)\u001b[38;5;241m*\u001b[39m(i\u001b[38;5;241m%\u001b[39m\u001b[38;5;241m10\u001b[39m)\u001b[38;5;241m*\u001b[39m(i\u001b[38;5;241m%\u001b[39m\u001b[38;5;241m10\u001b[39m)\n\u001b[0;32m      6\u001b[0m     i \u001b[38;5;241m=\u001b[39m i\u001b[38;5;241m/\u001b[39m\u001b[38;5;241m/\u001b[39m\u001b[38;5;241m10\u001b[39m\n\u001b[1;32m----> 7\u001b[0m \u001b[38;5;28;01mif\u001b[39;00m j \u001b[38;5;241m==\u001b[39m \u001b[38;5;28msum\u001b[39m:\n\u001b[0;32m      8\u001b[0m     \u001b[38;5;28mprint\u001b[39m(\u001b[38;5;124m\"\u001b[39m\u001b[38;5;124mthe number is armstrong\u001b[39m\u001b[38;5;124m\"\u001b[39m)\n\u001b[0;32m      9\u001b[0m \u001b[38;5;28;01melse\u001b[39;00m:\n",
      "\u001b[1;31mNameError\u001b[0m: name 'j' is not defined"
     ]
    }
   ],
   "source": [
    "# print armstrong number(153=1^3+5^3+3^3=153)\n",
    "i = 153\n",
    "sum = 0\n",
    "while(i>0):\n",
    "    sum = sum+(i%10)*(i%10)*(i%10)\n",
    "    i = i//10\n",
    "if j == sum:\n",
    "    print(\"the number is armstrong\")\n",
    "else:\n",
    "    print(\"the number is not armstrong\")\n",
    "print(\"The sum is=\",sum)\n"
   ]
  },
  {
   "cell_type": "code",
   "execution_count": 26,
   "id": "3219acf8",
   "metadata": {},
   "outputs": [
    {
     "name": "stdout",
     "output_type": "stream",
     "text": [
      "product of number: 4\n"
     ]
    }
   ],
   "source": [
    "#product of digits\n",
    "i = 22\n",
    "prod = 1\n",
    "while(i>0):\n",
    "    prod = prod*(i%10)\n",
    "    i=i//10\n",
    "print(\"product of number:\",prod)"
   ]
  },
  {
   "cell_type": "code",
   "execution_count": 27,
   "id": "f3946193",
   "metadata": {},
   "outputs": [
    {
     "name": "stdout",
     "output_type": "stream",
     "text": [
      "reverse of the number= 842\n"
     ]
    }
   ],
   "source": [
    "#print the reverse of the number\n",
    "i = 248\n",
    "rev = 0\n",
    "while(i>0):\n",
    "    rev = rev*10+(i%10)\n",
    "    i = i//10\n",
    "print(\"reverse of the number=\",rev)"
   ]
  },
  {
   "cell_type": "code",
   "execution_count": 29,
   "id": "f9f246bc",
   "metadata": {},
   "outputs": [
    {
     "name": "stdout",
     "output_type": "stream",
     "text": [
      "123\n",
      "the number is not palindrome\n",
      "sum of digits\n"
     ]
    }
   ],
   "source": [
    "#print to check the palindrome number(example:121,242,....)\n",
    "i = int(input())\n",
    "pal = 0\n",
    "x =i\n",
    "while(i>0):\n",
    "    pal = pal*10+(i%10)\n",
    "    i = i//10\n",
    "if x == pal:\n",
    "    print(\"the number is palindrome\")\n",
    "else :\n",
    "    print(\"the number is not palindrome\")\n",
    "print(\"sum of digits\")"
   ]
  },
  {
   "cell_type": "code",
   "execution_count": 30,
   "id": "71936929",
   "metadata": {},
   "outputs": [
    {
     "name": "stdout",
     "output_type": "stream",
     "text": [
      "1\n",
      "2\n",
      "3\n",
      "4\n",
      "1\n",
      "2\n",
      "3\n",
      "4\n",
      "1\n",
      "2\n",
      "3\n",
      "4\n",
      "1\n",
      "2\n",
      "3\n",
      "4\n"
     ]
    }
   ],
   "source": [
    "#nested loop (while loop)\n",
    "i = 1\n",
    "while(i<5):\n",
    "    j = 1 \n",
    "    while(j<5):\n",
    "        print(j)\n",
    "        j = j+1\n",
    "    i = i+1"
   ]
  },
  {
   "cell_type": "code",
   "execution_count": 35,
   "id": "6769ba34",
   "metadata": {},
   "outputs": [
    {
     "name": "stdout",
     "output_type": "stream",
     "text": [
      "* \n",
      "* * \n",
      "* * * \n",
      "* * * * \n",
      "* * * * * \n"
     ]
    }
   ],
   "source": [
    "i = 1\n",
    "while(i<=5):\n",
    "    j = 1\n",
    "    while(j<=i):\n",
    "        print(\"*\", end=\" \")\n",
    "        j = j+1\n",
    "    print()\n",
    "    i = i+1"
   ]
  },
  {
   "cell_type": "code",
   "execution_count": 36,
   "id": "7b0d1eec",
   "metadata": {},
   "outputs": [
    {
     "name": "stdout",
     "output_type": "stream",
     "text": [
      "1 \n",
      "2 2 \n",
      "3 3 3 \n",
      "4 4 4 4 \n",
      "5 5 5 5 5 \n"
     ]
    }
   ],
   "source": [
    "i = 1\n",
    "while(i<=5):\n",
    "    j = 1\n",
    "    while(j<=i):\n",
    "        print(i, end=\" \")\n",
    "        j = j+1\n",
    "    print()\n",
    "    i = i+1"
   ]
  },
  {
   "cell_type": "code",
   "execution_count": 38,
   "id": "07990335",
   "metadata": {},
   "outputs": [
    {
     "name": "stdout",
     "output_type": "stream",
     "text": [
      "    * \n",
      "    * * \n",
      "    * * * \n",
      "    * * * * \n",
      "    * * * * * \n"
     ]
    }
   ],
   "source": [
    "i = 1\n",
    "while(i<=5):\n",
    "    j = 1\n",
    "    while(j<=5-1):\n",
    "        print(' ',end = '')\n",
    "        j = j+1\n",
    "    k= 1\n",
    "    while k <= i:\n",
    "        print('*',end=' ')\n",
    "        k = k+1\n",
    "    print()\n",
    "    i = i+1"
   ]
  },
  {
   "cell_type": "code",
   "execution_count": null,
   "id": "4ab1ee80",
   "metadata": {},
   "outputs": [],
   "source": []
  }
 ],
 "metadata": {
  "kernelspec": {
   "display_name": "Python 3 (ipykernel)",
   "language": "python",
   "name": "python3"
  },
  "language_info": {
   "codemirror_mode": {
    "name": "ipython",
    "version": 3
   },
   "file_extension": ".py",
   "mimetype": "text/x-python",
   "name": "python",
   "nbconvert_exporter": "python",
   "pygments_lexer": "ipython3",
   "version": "3.11.3"
  }
 },
 "nbformat": 4,
 "nbformat_minor": 5
}
